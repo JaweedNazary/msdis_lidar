{
 "cells": [
  {
   "cell_type": "code",
   "execution_count": 29,
   "id": "3a2daf84",
   "metadata": {
    "scrolled": true
   },
   "outputs": [
    {
     "name": "stdout",
     "output_type": "stream",
     "text": [
      "Defaulting to user installation because normal site-packages is not writeable\n",
      "Processing c:\\users\\mjwd1\\onedrive\\documents\\github\\msdis_lidar\n",
      "  Installing build dependencies: started\n",
      "  Installing build dependencies: finished with status 'done'\n",
      "  Getting requirements to build wheel: started\n",
      "  Getting requirements to build wheel: finished with status 'done'\n",
      "  Preparing metadata (pyproject.toml): started\n",
      "  Preparing metadata (pyproject.toml): finished with status 'done'\n",
      "Requirement already satisfied: geopandas in c:\\users\\mjwd1\\appdata\\roaming\\python\\python39\\site-packages (from msdis-lidar==0.1) (0.12.2)\n",
      "Requirement already satisfied: rich in c:\\users\\mjwd1\\appdata\\roaming\\python\\python39\\site-packages (from msdis-lidar==0.1) (12.6.0)\n",
      "Requirement already satisfied: requests in c:\\program files\\arcgis\\pro\\bin\\python\\envs\\arcgispro-py3\\lib\\site-packages (from msdis-lidar==0.1) (2.27.1)\n",
      "Requirement already satisfied: folium in c:\\users\\mjwd1\\appdata\\roaming\\python\\python39\\site-packages (from msdis-lidar==0.1) (0.14.0)\n",
      "Requirement already satisfied: tabulate in c:\\users\\mjwd1\\appdata\\roaming\\python\\python39\\site-packages (from msdis-lidar==0.1) (0.9.0)\n",
      "Requirement already satisfied: branca>=0.6.0 in c:\\users\\mjwd1\\appdata\\roaming\\python\\python39\\site-packages (from folium->msdis-lidar==0.1) (0.6.0)\n",
      "Requirement already satisfied: jinja2>=2.9 in c:\\program files\\arcgis\\pro\\bin\\python\\envs\\arcgispro-py3\\lib\\site-packages (from folium->msdis-lidar==0.1) (3.0.3)\n",
      "Requirement already satisfied: numpy in c:\\users\\mjwd1\\appdata\\roaming\\python\\python39\\site-packages (from folium->msdis-lidar==0.1) (1.24.0)\n",
      "Requirement already satisfied: pandas>=1.0.0 in c:\\program files\\arcgis\\pro\\bin\\python\\envs\\arcgispro-py3\\lib\\site-packages (from geopandas->msdis-lidar==0.1) (1.3.5)\n",
      "Requirement already satisfied: shapely>=1.7 in c:\\users\\mjwd1\\appdata\\roaming\\python\\python39\\site-packages (from geopandas->msdis-lidar==0.1) (2.0.1)\n",
      "Requirement already satisfied: fiona>=1.8 in c:\\users\\mjwd1\\appdata\\roaming\\python\\python39\\site-packages (from geopandas->msdis-lidar==0.1) (1.9.1)\n",
      "Requirement already satisfied: pyproj>=2.6.1.post1 in c:\\users\\mjwd1\\appdata\\roaming\\python\\python39\\site-packages (from geopandas->msdis-lidar==0.1) (3.4.1)\n",
      "Requirement already satisfied: packaging in c:\\program files\\arcgis\\pro\\bin\\python\\envs\\arcgispro-py3\\lib\\site-packages (from geopandas->msdis-lidar==0.1) (21.3)\n",
      "Requirement already satisfied: urllib3<1.27,>=1.21.1 in c:\\program files\\arcgis\\pro\\bin\\python\\envs\\arcgispro-py3\\lib\\site-packages (from requests->msdis-lidar==0.1) (1.26.8)\n",
      "Requirement already satisfied: certifi>=2017.4.17 in c:\\program files\\arcgis\\pro\\bin\\python\\envs\\arcgispro-py3\\lib\\site-packages (from requests->msdis-lidar==0.1) (2021.10.8)\n",
      "Requirement already satisfied: charset-normalizer~=2.0.0 in c:\\program files\\arcgis\\pro\\bin\\python\\envs\\arcgispro-py3\\lib\\site-packages (from requests->msdis-lidar==0.1) (2.0.4)\n",
      "Requirement already satisfied: idna<4,>=2.5 in c:\\program files\\arcgis\\pro\\bin\\python\\envs\\arcgispro-py3\\lib\\site-packages (from requests->msdis-lidar==0.1) (3.3)\n",
      "Requirement already satisfied: commonmark<0.10.0,>=0.9.0 in c:\\users\\mjwd1\\appdata\\roaming\\python\\python39\\site-packages (from rich->msdis-lidar==0.1) (0.9.1)\n",
      "Requirement already satisfied: pygments<3.0.0,>=2.6.0 in c:\\program files\\arcgis\\pro\\bin\\python\\envs\\arcgispro-py3\\lib\\site-packages (from rich->msdis-lidar==0.1) (2.9.0)\n",
      "Requirement already satisfied: attrs>=19.2.0 in c:\\program files\\arcgis\\pro\\bin\\python\\envs\\arcgispro-py3\\lib\\site-packages (from fiona>=1.8->geopandas->msdis-lidar==0.1) (21.4.0)\n",
      "Requirement already satisfied: click~=8.0 in c:\\program files\\arcgis\\pro\\bin\\python\\envs\\arcgispro-py3\\lib\\site-packages (from fiona>=1.8->geopandas->msdis-lidar==0.1) (8.0.4)\n",
      "Requirement already satisfied: click-plugins>=1.0 in c:\\users\\mjwd1\\appdata\\roaming\\python\\python39\\site-packages (from fiona>=1.8->geopandas->msdis-lidar==0.1) (1.1.1)\n",
      "Requirement already satisfied: cligj>=0.5 in c:\\users\\mjwd1\\appdata\\roaming\\python\\python39\\site-packages (from fiona>=1.8->geopandas->msdis-lidar==0.1) (0.7.2)\n",
      "Requirement already satisfied: munch>=2.3.2 in c:\\users\\mjwd1\\appdata\\roaming\\python\\python39\\site-packages (from fiona>=1.8->geopandas->msdis-lidar==0.1) (2.5.0)\n",
      "Requirement already satisfied: setuptools in c:\\users\\mjwd1\\appdata\\roaming\\python\\python39\\site-packages (from fiona>=1.8->geopandas->msdis-lidar==0.1) (72.1.0)\n",
      "Requirement already satisfied: MarkupSafe>=2.0 in c:\\users\\mjwd1\\appdata\\roaming\\python\\python39\\site-packages (from jinja2>=2.9->folium->msdis-lidar==0.1) (2.1.5)\n",
      "Requirement already satisfied: python-dateutil>=2.7.3 in c:\\program files\\arcgis\\pro\\bin\\python\\envs\\arcgispro-py3\\lib\\site-packages (from pandas>=1.0.0->geopandas->msdis-lidar==0.1) (2.8.2)\n",
      "Requirement already satisfied: pytz>=2017.3 in c:\\program files\\arcgis\\pro\\bin\\python\\envs\\arcgispro-py3\\lib\\site-packages\\pytz-2022.1-py3.9.egg (from pandas>=1.0.0->geopandas->msdis-lidar==0.1) (2022.1)\n",
      "Requirement already satisfied: pyparsing!=3.0.5,>=2.0.2 in c:\\program files\\arcgis\\pro\\bin\\python\\envs\\arcgispro-py3\\lib\\site-packages (from packaging->geopandas->msdis-lidar==0.1) (3.0.4)\n",
      "Requirement already satisfied: colorama in c:\\program files\\arcgis\\pro\\bin\\python\\envs\\arcgispro-py3\\lib\\site-packages (from click~=8.0->fiona>=1.8->geopandas->msdis-lidar==0.1) (0.4.4)\n",
      "Requirement already satisfied: six in c:\\program files\\arcgis\\pro\\bin\\python\\envs\\arcgispro-py3\\lib\\site-packages (from munch>=2.3.2->fiona>=1.8->geopandas->msdis-lidar==0.1) (1.16.0)\n",
      "Building wheels for collected packages: msdis-lidar\n",
      "  Building wheel for msdis-lidar (pyproject.toml): started\n",
      "  Building wheel for msdis-lidar (pyproject.toml): finished with status 'done'\n",
      "  Created wheel for msdis-lidar: filename=msdis_lidar-0.1-py3-none-any.whl size=5753 sha256=e4a726a94e632c4f6b3ceedf5ff21ea80c4f67f65f46004fbaabc846bbb14f67\n",
      "  Stored in directory: C:\\Users\\mjwd1\\AppData\\Local\\Temp\\pip-ephem-wheel-cache-8m3fps35\\wheels\\d7\\0c\\6e\\3abb280ff339e252f3d0c251b0f4d35491b2383fd4b884a613\n",
      "Successfully built msdis-lidar\n",
      "Installing collected packages: msdis-lidar\n",
      "  Attempting uninstall: msdis-lidar\n",
      "    Found existing installation: msdis-lidar 0.1\n",
      "    Uninstalling msdis-lidar-0.1:\n",
      "      Successfully uninstalled msdis-lidar-0.1\n",
      "Successfully installed msdis-lidar-0.1\n"
     ]
    }
   ],
   "source": [
    "!pip install ."
   ]
  },
  {
   "cell_type": "code",
   "execution_count": 1,
   "id": "3a4d6ef5",
   "metadata": {},
   "outputs": [
    {
     "ename": "NameError",
     "evalue": "name 'builtins' is not defined",
     "output_type": "error",
     "traceback": [
      "\u001b[1;31m---------------------------------------------------------------------------\u001b[0m",
      "\u001b[1;31mNameError\u001b[0m                                 Traceback (most recent call last)",
      "\u001b[1;32m<ipython-input-1-ba453b83af47>\u001b[0m in \u001b[0;36m<module>\u001b[1;34m\u001b[0m\n\u001b[1;32m----> 1\u001b[1;33m \u001b[1;32mimport\u001b[0m \u001b[0mmsdis_lidar\u001b[0m\u001b[1;33m\u001b[0m\u001b[1;33m\u001b[0m\u001b[0m\n\u001b[0m",
      "\u001b[1;32m~\\OneDrive\\Documents\\GitHub\\msdis_lidar\\msdis_lidar\\__init__.py\u001b[0m in \u001b[0;36m<module>\u001b[1;34m\u001b[0m\n\u001b[0;32m      3\u001b[0m \u001b[1;31m# msdis_lidar/msdis_lidar/__init__.py\u001b[0m\u001b[1;33m\u001b[0m\u001b[1;33m\u001b[0m\u001b[0m\n\u001b[0;32m      4\u001b[0m \u001b[1;32mfrom\u001b[0m \u001b[1;33m.\u001b[0m\u001b[0mdownloader\u001b[0m \u001b[1;32mimport\u001b[0m \u001b[0mLidarDownloader\u001b[0m\u001b[1;33m\u001b[0m\u001b[1;33m\u001b[0m\u001b[0m\n\u001b[1;32m----> 5\u001b[1;33m \u001b[1;32mfrom\u001b[0m \u001b[1;33m.\u001b[0m\u001b[0mshapefile_handler\u001b[0m \u001b[1;32mimport\u001b[0m \u001b[0mShapefileHandler\u001b[0m\u001b[1;33m\u001b[0m\u001b[1;33m\u001b[0m\u001b[0m\n\u001b[0m\u001b[0;32m      6\u001b[0m \u001b[1;32mfrom\u001b[0m \u001b[1;33m.\u001b[0m\u001b[0mvisualization\u001b[0m \u001b[1;32mimport\u001b[0m \u001b[0mVisualizer\u001b[0m\u001b[1;33m\u001b[0m\u001b[1;33m\u001b[0m\u001b[0m\n\u001b[0;32m      7\u001b[0m \u001b[1;33m\u001b[0m\u001b[0m\n",
      "\u001b[1;32m~\\OneDrive\\Documents\\GitHub\\msdis_lidar\\msdis_lidar\\shapefile_handler.py\u001b[0m in \u001b[0;36m<module>\u001b[1;34m\u001b[0m\n\u001b[0;32m      8\u001b[0m \u001b[1;32mfrom\u001b[0m \u001b[0mrich\u001b[0m\u001b[1;33m.\u001b[0m\u001b[0mprogress\u001b[0m \u001b[1;32mimport\u001b[0m \u001b[0mtrack\u001b[0m\u001b[1;33m\u001b[0m\u001b[1;33m\u001b[0m\u001b[0m\n\u001b[0;32m      9\u001b[0m \u001b[1;33m\u001b[0m\u001b[0m\n\u001b[1;32m---> 10\u001b[1;33m \u001b[1;32mclass\u001b[0m \u001b[0mShapefileHandler\u001b[0m\u001b[1;33m(\u001b[0m\u001b[0mbuiltins\u001b[0m\u001b[1;33m.\u001b[0m\u001b[0mobject\u001b[0m\u001b[1;33m)\u001b[0m\u001b[1;33m:\u001b[0m\u001b[1;33m\u001b[0m\u001b[1;33m\u001b[0m\u001b[0m\n\u001b[0m\u001b[0;32m     11\u001b[0m     \u001b[1;32mdef\u001b[0m \u001b[0m__init__\u001b[0m\u001b[1;33m(\u001b[0m\u001b[0mself\u001b[0m\u001b[1;33m,\u001b[0m \u001b[0mshapefile_path\u001b[0m\u001b[1;33m)\u001b[0m\u001b[1;33m:\u001b[0m\u001b[1;33m\u001b[0m\u001b[1;33m\u001b[0m\u001b[0m\n\u001b[0;32m     12\u001b[0m         \u001b[0mself\u001b[0m\u001b[1;33m.\u001b[0m\u001b[0mgdf\u001b[0m \u001b[1;33m=\u001b[0m \u001b[0mgpd\u001b[0m\u001b[1;33m.\u001b[0m\u001b[0mread_file\u001b[0m\u001b[1;33m(\u001b[0m\u001b[0mshapefile_path\u001b[0m\u001b[1;33m)\u001b[0m\u001b[1;33m\u001b[0m\u001b[1;33m\u001b[0m\u001b[0m\n",
      "\u001b[1;31mNameError\u001b[0m: name 'builtins' is not defined"
     ]
    }
   ],
   "source": [
    "import msdis_lidar"
   ]
  },
  {
   "cell_type": "code",
   "execution_count": 31,
   "id": "41844569",
   "metadata": {},
   "outputs": [],
   "source": [
    "from msdis_lidar import shapefile_handler"
   ]
  },
  {
   "cell_type": "code",
   "execution_count": 32,
   "id": "3067d9e9",
   "metadata": {},
   "outputs": [
    {
     "name": "stdout",
     "output_type": "stream",
     "text": [
      "Help on package msdis_lidar:\n",
      "\n",
      "NAME\n",
      "    msdis_lidar\n",
      "\n",
      "PACKAGE CONTENTS\n",
      "    downloader\n",
      "    shapefile_handler\n",
      "    utils\n",
      "    visualization\n",
      "\n",
      "VERSION\n",
      "    0.1\n",
      "\n",
      "FILE\n",
      "    c:\\users\\mjwd1\\onedrive\\documents\\github\\msdis_lidar\\msdis_lidar\\__init__.py\n",
      "\n",
      "\n"
     ]
    }
   ],
   "source": [
    "help(msdis_lidar)"
   ]
  },
  {
   "cell_type": "code",
   "execution_count": 33,
   "id": "3b7d329f",
   "metadata": {},
   "outputs": [
    {
     "ename": "TypeError",
     "evalue": "'module' object is not callable",
     "output_type": "error",
     "traceback": [
      "\u001b[1;31m---------------------------------------------------------------------------\u001b[0m",
      "\u001b[1;31mTypeError\u001b[0m                                 Traceback (most recent call last)",
      "\u001b[1;32m<ipython-input-33-7287b59db050>\u001b[0m in \u001b[0;36m<module>\u001b[1;34m\u001b[0m\n\u001b[1;32m----> 1\u001b[1;33m \u001b[0mshapefile_handler\u001b[0m\u001b[1;33m(\u001b[0m\u001b[1;33m)\u001b[0m\u001b[1;33m\u001b[0m\u001b[1;33m\u001b[0m\u001b[0m\n\u001b[0m",
      "\u001b[1;31mTypeError\u001b[0m: 'module' object is not callable"
     ]
    }
   ],
   "source": [
    "shapefile_handler"
   ]
  },
  {
   "cell_type": "code",
   "execution_count": 28,
   "id": "cb04fa3c",
   "metadata": {},
   "outputs": [
    {
     "name": "stdout",
     "output_type": "stream",
     "text": [
      "Help on module msdis_lidar.shapefile_handler in msdis_lidar:\n",
      "\n",
      "NAME\n",
      "    msdis_lidar.shapefile_handler - # coding: utf-8\n",
      "\n",
      "CLASSES\n",
      "    builtins.object\n",
      "        ShapefileHandler\n",
      "    \n",
      "    class ShapefileHandler(builtins.object)\n",
      "     |  ShapefileHandler(shapefile_path)\n",
      "     |  \n",
      "     |  Methods defined here:\n",
      "     |  \n",
      "     |  __init__(self, shapefile_path)\n",
      "     |      Initialize self.  See help(type(self)) for accurate signature.\n",
      "     |  \n",
      "     |  get_polygon_string(self)\n",
      "     |  \n",
      "     |  simplify_polygon(self, polygon_coords, nodes)\n",
      "     |  \n",
      "     |  ----------------------------------------------------------------------\n",
      "     |  Data descriptors defined here:\n",
      "     |  \n",
      "     |  __dict__\n",
      "     |      dictionary for instance variables (if defined)\n",
      "     |  \n",
      "     |  __weakref__\n",
      "     |      list of weak references to the object (if defined)\n",
      "\n",
      "FILE\n",
      "    c:\\users\\mjwd1\\onedrive\\documents\\github\\msdis_lidar\\msdis_lidar\\shapefile_handler.py\n",
      "\n",
      "\n"
     ]
    }
   ],
   "source": [
    "help(shapefile_handler)"
   ]
  },
  {
   "cell_type": "code",
   "execution_count": null,
   "id": "b1a99538",
   "metadata": {},
   "outputs": [],
   "source": []
  }
 ],
 "metadata": {
  "kernelspec": {
   "display_name": "Python 3",
   "language": "python",
   "name": "python3"
  },
  "language_info": {
   "codemirror_mode": {
    "name": "ipython",
    "version": 3
   },
   "file_extension": ".py",
   "mimetype": "text/x-python",
   "name": "python",
   "nbconvert_exporter": "python",
   "pygments_lexer": "ipython3",
   "version": "3.9.11"
  }
 },
 "nbformat": 4,
 "nbformat_minor": 5
}
