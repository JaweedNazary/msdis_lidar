{
 "cells": [
  {
   "cell_type": "code",
   "execution_count": 1,
   "id": "702fc169",
   "metadata": {},
   "outputs": [],
   "source": [
    "import msdis_lidar"
   ]
  },
  {
   "cell_type": "code",
   "execution_count": 24,
   "id": "379d4aef",
   "metadata": {},
   "outputs": [],
   "source": [
    "from msdis_lidar import shapefile_handler"
   ]
  },
  {
   "cell_type": "code",
   "execution_count": 2,
   "id": "e6f4b55a",
   "metadata": {},
   "outputs": [
    {
     "name": "stdout",
     "output_type": "stream",
     "text": [
      "Help on package msdis_lidar:\n",
      "\n",
      "NAME\n",
      "    msdis_lidar\n",
      "\n",
      "PACKAGE CONTENTS\n",
      "    downloader\n",
      "    shapefile_handler\n",
      "    utils\n",
      "    visualization\n",
      "\n",
      "VERSION\n",
      "    0.1\n",
      "\n",
      "FILE\n",
      "    c:\\users\\mjwd1\\onedrive\\documents\\github\\msdis_lidar\\msdis_lidar\\__init__.py\n",
      "\n",
      "\n"
     ]
    }
   ],
   "source": [
    "help(msdis_lidar)"
   ]
  },
  {
   "cell_type": "code",
   "execution_count": 16,
   "id": "d01afddd",
   "metadata": {},
   "outputs": [
    {
     "data": {
      "text/plain": [
       "<module 'msdis_lidar.shapefile_handler' from 'C:\\\\Users\\\\mjwd1\\\\OneDrive\\\\Documents\\\\GitHub\\\\msdis_lidar\\\\msdis_lidar\\\\shapefile_handler.py'>"
      ]
     },
     "execution_count": 16,
     "metadata": {},
     "output_type": "execute_result"
    }
   ],
   "source": [
    "shapefile_handler"
   ]
  },
  {
   "cell_type": "code",
   "execution_count": 28,
   "id": "e0274618",
   "metadata": {},
   "outputs": [
    {
     "name": "stdout",
     "output_type": "stream",
     "text": [
      "Help on module msdis_lidar.shapefile_handler in msdis_lidar:\n",
      "\n",
      "NAME\n",
      "    msdis_lidar.shapefile_handler - # coding: utf-8\n",
      "\n",
      "CLASSES\n",
      "    builtins.object\n",
      "        ShapefileHandler\n",
      "    \n",
      "    class ShapefileHandler(builtins.object)\n",
      "     |  ShapefileHandler(shapefile_path)\n",
      "     |  \n",
      "     |  Methods defined here:\n",
      "     |  \n",
      "     |  __init__(self, shapefile_path)\n",
      "     |      Initialize self.  See help(type(self)) for accurate signature.\n",
      "     |  \n",
      "     |  get_polygon_string(self)\n",
      "     |  \n",
      "     |  simplify_polygon(self, polygon_coords, nodes)\n",
      "     |  \n",
      "     |  ----------------------------------------------------------------------\n",
      "     |  Data descriptors defined here:\n",
      "     |  \n",
      "     |  __dict__\n",
      "     |      dictionary for instance variables (if defined)\n",
      "     |  \n",
      "     |  __weakref__\n",
      "     |      list of weak references to the object (if defined)\n",
      "\n",
      "FILE\n",
      "    c:\\users\\mjwd1\\onedrive\\documents\\github\\msdis_lidar\\msdis_lidar\\shapefile_handler.py\n",
      "\n",
      "\n"
     ]
    }
   ],
   "source": [
    "help(shapefile_handler)"
   ]
  },
  {
   "cell_type": "code",
   "execution_count": null,
   "id": "090a631c",
   "metadata": {},
   "outputs": [],
   "source": []
  }
 ],
 "metadata": {
  "kernelspec": {
   "display_name": "Python 3",
   "language": "python",
   "name": "python3"
  },
  "language_info": {
   "codemirror_mode": {
    "name": "ipython",
    "version": 3
   },
   "file_extension": ".py",
   "mimetype": "text/x-python",
   "name": "python",
   "nbconvert_exporter": "python",
   "pygments_lexer": "ipython3",
   "version": "3.9.11"
  }
 },
 "nbformat": 4,
 "nbformat_minor": 5
}
