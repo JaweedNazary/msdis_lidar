{
 "cells": [
  {
   "cell_type": "code",
   "execution_count": null,
   "id": "bac327bb",
   "metadata": {
    "scrolled": true
   },
   "outputs": [],
   "source": [
    "!pip install ."
   ]
  },
  {
   "cell_type": "code",
   "execution_count": 3,
   "id": "b5d284db",
   "metadata": {},
   "outputs": [],
   "source": [
    "from msdis_lidar.shapefile_handler import ShapefileHandler\n",
    "from msdis_lidar.downloader import LidarDownloader\n"
   ]
  },
  {
   "cell_type": "code",
   "execution_count": 4,
   "id": "31a206d0",
   "metadata": {},
   "outputs": [],
   "source": [
    "handler = ShapefileHandler(\"Perche_Creek_HU12.shp\")"
   ]
  },
  {
   "cell_type": "code",
   "execution_count": 5,
   "id": "b3704fae",
   "metadata": {},
   "outputs": [
    {
     "data": {
      "application/vnd.jupyter.widget-view+json": {
       "model_id": "e060e11c8ad041eb8075686631e501c6",
       "version_major": 2,
       "version_minor": 0
      },
      "text/plain": [
       "Output()"
      ]
     },
     "metadata": {},
     "output_type": "display_data"
    },
    {
     "name": "stdout",
     "output_type": "stream",
     "text": [
      "10 geometries found\n",
      "CRS = EPSG:3857 is not compatible\n",
      "  Projecting to EPSG:4326 ...\n",
      "  Simplifying the polygons...\n"
     ]
    },
    {
     "data": {
      "text/html": [
       "<pre style=\"white-space:pre;overflow-x:auto;line-height:normal;font-family:Menlo,'DejaVu Sans Mono',consolas,'Courier New',monospace\"></pre>\n"
      ],
      "text/plain": []
     },
     "metadata": {},
     "output_type": "display_data"
    },
    {
     "data": {
      "text/html": [
       "<pre style=\"white-space:pre;overflow-x:auto;line-height:normal;font-family:Menlo,'DejaVu Sans Mono',consolas,'Courier New',monospace\">\n",
       "</pre>\n"
      ],
      "text/plain": [
       "\n"
      ]
     },
     "metadata": {},
     "output_type": "display_data"
    }
   ],
   "source": [
    "polys = handler.get_polygon_string()"
   ]
  },
  {
   "cell_type": "code",
   "execution_count": 6,
   "id": "bfaa6bc2",
   "metadata": {},
   "outputs": [],
   "source": [
    "links = LidarDownloader(polys)"
   ]
  },
  {
   "cell_type": "code",
   "execution_count": 7,
   "id": "c7bd2cbb",
   "metadata": {},
   "outputs": [
    {
     "data": {
      "application/vnd.jupyter.widget-view+json": {
       "model_id": "",
       "version_major": 2,
       "version_minor": 0
      },
      "text/plain": [
       "Output()"
      ]
     },
     "metadata": {},
     "output_type": "display_data"
    },
    {
     "data": {
      "text/html": [
       "<pre style=\"white-space:pre;overflow-x:auto;line-height:normal;font-family:Menlo,'DejaVu Sans Mono',consolas,'Courier New',monospace\"></pre>\n"
      ],
      "text/plain": []
     },
     "metadata": {},
     "output_type": "display_data"
    },
    {
     "data": {
      "text/html": [
       "<pre style=\"white-space:pre;overflow-x:auto;line-height:normal;font-family:Menlo,'DejaVu Sans Mono',consolas,'Courier New',monospace\">\n",
       "</pre>\n"
      ],
      "text/plain": [
       "\n"
      ]
     },
     "metadata": {},
     "output_type": "display_data"
    },
    {
     "ename": "InvalidSchema",
     "evalue": "No connection adapters were found for '(\\'https://services2.arcgis.com/kNS2ppBA4rwAQQZy/ArcGIS/rest/services/MO_LAS_Tiles/FeatureServer/0/query?geometryType=esriGeometryPolygon&geometry={\"rings\": [[[-92.13934223565249, 39.17878902120912], [-92.13530835536073, 39.14420521733265], [-92.1421257221542, 39.123535464476845], [-92.1410757056731, 39.09648466736374], [-92.16479022845063, 39.10476687057812], [-92.16362156069019, 39.12720245811418], [-92.19514339909416, 39.13290543824691], [-92.22599704184373, 39.13225454259693], [-92.26800108863446, 39.145858159715075], [-92.30425794690103, 39.1652418760144], [-92.31011813989467, 39.18804546940189], [-92.28512706258937, 39.20265052624866], [-92.25068693020394, 39.21493982530533], [-92.20609389923851, 39.20039319650071], [-92.16712269420438, 39.20209051710156]]], \"spatialReference\": {\"wkid\": 4326}}&inSR=4326&spatialRel=esriSpatialRelIntersects&outFields=FID,OBJECTID,Name_1,ftp_1,Acq_Year_1,ftp,Project,updated_ft,Shape_Leng,Shape_Area,Shape__Area,Shape__Length&returnGeometry=true&outSR=4326&f=json\\', {\\'geometryType\\': \\'esriGeometryPolygon\\', \\'geometry\\': \\'{\"rings\": [[[-92.13934223565249, 39.17878902120912], [-92.13530835536073, 39.14420521733265], [-92.1421257221542, 39.123535464476845], [-92.1410757056731, 39.09648466736374], [-92.16479022845063, 39.10476687057812], [-92.16362156069019, 39.12720245811418], [-92.19514339909416, 39.13290543824691], [-92.22599704184373, 39.13225454259693], [-92.26800108863446, 39.145858159715075], [-92.30425794690103, 39.1652418760144], [-92.31011813989467, 39.18804546940189], [-92.28512706258937, 39.20265052624866], [-92.25068693020394, 39.21493982530533], [-92.20609389923851, 39.20039319650071], [-92.16712269420438, 39.20209051710156]]], \"spatialReference\": {\"wkid\": 4326}}\\', \\'inSR\\': 4326, \\'spatialRel\\': \\'esriSpatialRelIntersects\\', \\'outFields\\': \\'FID,OBJECTID,Name_1,ftp_1,Acq_Year_1,ftp,Project,updated_ft,Shape_Leng,Shape_Area,Shape__Area,Shape__Length\\', \\'returnGeometry\\': \\'true\\', \\'outSR\\': 4326, \\'f\\': \\'json\\'})'",
     "output_type": "error",
     "traceback": [
      "\u001b[1;31m---------------------------------------------------------------------------\u001b[0m",
      "\u001b[1;31mInvalidSchema\u001b[0m                             Traceback (most recent call last)",
      "\u001b[1;32m<ipython-input-7-00effda7e622>\u001b[0m in \u001b[0;36m<module>\u001b[1;34m\u001b[0m\n\u001b[1;32m----> 1\u001b[1;33m \u001b[0mget_links\u001b[0m\u001b[1;33m=\u001b[0m \u001b[0mlinks\u001b[0m\u001b[1;33m.\u001b[0m\u001b[0mget_download_links\u001b[0m\u001b[1;33m(\u001b[0m\u001b[1;33m)\u001b[0m\u001b[1;33m\u001b[0m\u001b[1;33m\u001b[0m\u001b[0m\n\u001b[0m",
      "\u001b[1;32m~\\OneDrive\\Documents\\GitHub\\msdis_lidar\\msdis_lidar\\downloader.py\u001b[0m in \u001b[0;36mget_download_links\u001b[1;34m(self)\u001b[0m\n\u001b[0;32m     24\u001b[0m                 \u001b[0mpolygon_string\u001b[0m \u001b[1;33m=\u001b[0m \u001b[0mself\u001b[0m\u001b[1;33m.\u001b[0m\u001b[0m_format_polygon_string\u001b[0m\u001b[1;33m(\u001b[0m\u001b[0mpoly\u001b[0m\u001b[1;33m)\u001b[0m\u001b[1;33m\u001b[0m\u001b[1;33m\u001b[0m\u001b[0m\n\u001b[0;32m     25\u001b[0m                 \u001b[0mquery_url\u001b[0m \u001b[1;33m=\u001b[0m \u001b[0mself\u001b[0m\u001b[1;33m.\u001b[0m\u001b[0m_construct_query_url\u001b[0m\u001b[1;33m(\u001b[0m\u001b[0mpolygon_string\u001b[0m\u001b[1;33m)\u001b[0m\u001b[1;33m\u001b[0m\u001b[1;33m\u001b[0m\u001b[0m\n\u001b[1;32m---> 26\u001b[1;33m                 \u001b[0mresponse\u001b[0m \u001b[1;33m=\u001b[0m \u001b[0mrequests\u001b[0m\u001b[1;33m.\u001b[0m\u001b[0mget\u001b[0m\u001b[1;33m(\u001b[0m\u001b[0mquery_url\u001b[0m\u001b[1;33m)\u001b[0m\u001b[1;33m\u001b[0m\u001b[1;33m\u001b[0m\u001b[0m\n\u001b[0m\u001b[0;32m     27\u001b[0m                 \u001b[1;32mif\u001b[0m \u001b[0mresponse\u001b[0m\u001b[1;33m.\u001b[0m\u001b[0mstatus_code\u001b[0m \u001b[1;33m==\u001b[0m \u001b[1;36m200\u001b[0m\u001b[1;33m:\u001b[0m\u001b[1;33m\u001b[0m\u001b[1;33m\u001b[0m\u001b[0m\n\u001b[0;32m     28\u001b[0m                     \u001b[0mnew_data\u001b[0m \u001b[1;33m=\u001b[0m \u001b[0mself\u001b[0m\u001b[1;33m.\u001b[0m\u001b[0m_process_response\u001b[0m\u001b[1;33m(\u001b[0m\u001b[0mresponse\u001b[0m\u001b[1;33m)\u001b[0m\u001b[1;33m\u001b[0m\u001b[1;33m\u001b[0m\u001b[0m\n",
      "\u001b[1;32mC:\\Program Files\\ArcGIS\\Pro\\bin\\Python\\envs\\arcgispro-py3\\lib\\site-packages\\requests\\api.py\u001b[0m in \u001b[0;36mget\u001b[1;34m(url, params, **kwargs)\u001b[0m\n\u001b[0;32m     73\u001b[0m     \"\"\"\n\u001b[0;32m     74\u001b[0m \u001b[1;33m\u001b[0m\u001b[0m\n\u001b[1;32m---> 75\u001b[1;33m     \u001b[1;32mreturn\u001b[0m \u001b[0mrequest\u001b[0m\u001b[1;33m(\u001b[0m\u001b[1;34m'get'\u001b[0m\u001b[1;33m,\u001b[0m \u001b[0murl\u001b[0m\u001b[1;33m,\u001b[0m \u001b[0mparams\u001b[0m\u001b[1;33m=\u001b[0m\u001b[0mparams\u001b[0m\u001b[1;33m,\u001b[0m \u001b[1;33m**\u001b[0m\u001b[0mkwargs\u001b[0m\u001b[1;33m)\u001b[0m\u001b[1;33m\u001b[0m\u001b[1;33m\u001b[0m\u001b[0m\n\u001b[0m\u001b[0;32m     76\u001b[0m \u001b[1;33m\u001b[0m\u001b[0m\n\u001b[0;32m     77\u001b[0m \u001b[1;33m\u001b[0m\u001b[0m\n",
      "\u001b[1;32mC:\\Program Files\\ArcGIS\\Pro\\bin\\Python\\envs\\arcgispro-py3\\lib\\site-packages\\requests\\api.py\u001b[0m in \u001b[0;36mrequest\u001b[1;34m(method, url, **kwargs)\u001b[0m\n\u001b[0;32m     59\u001b[0m     \u001b[1;31m# cases, and look like a memory leak in others.\u001b[0m\u001b[1;33m\u001b[0m\u001b[1;33m\u001b[0m\u001b[0m\n\u001b[0;32m     60\u001b[0m     \u001b[1;32mwith\u001b[0m \u001b[0msessions\u001b[0m\u001b[1;33m.\u001b[0m\u001b[0mSession\u001b[0m\u001b[1;33m(\u001b[0m\u001b[1;33m)\u001b[0m \u001b[1;32mas\u001b[0m \u001b[0msession\u001b[0m\u001b[1;33m:\u001b[0m\u001b[1;33m\u001b[0m\u001b[1;33m\u001b[0m\u001b[0m\n\u001b[1;32m---> 61\u001b[1;33m         \u001b[1;32mreturn\u001b[0m \u001b[0msession\u001b[0m\u001b[1;33m.\u001b[0m\u001b[0mrequest\u001b[0m\u001b[1;33m(\u001b[0m\u001b[0mmethod\u001b[0m\u001b[1;33m=\u001b[0m\u001b[0mmethod\u001b[0m\u001b[1;33m,\u001b[0m \u001b[0murl\u001b[0m\u001b[1;33m=\u001b[0m\u001b[0murl\u001b[0m\u001b[1;33m,\u001b[0m \u001b[1;33m**\u001b[0m\u001b[0mkwargs\u001b[0m\u001b[1;33m)\u001b[0m\u001b[1;33m\u001b[0m\u001b[1;33m\u001b[0m\u001b[0m\n\u001b[0m\u001b[0;32m     62\u001b[0m \u001b[1;33m\u001b[0m\u001b[0m\n\u001b[0;32m     63\u001b[0m \u001b[1;33m\u001b[0m\u001b[0m\n",
      "\u001b[1;32mC:\\Program Files\\ArcGIS\\Pro\\bin\\Python\\envs\\arcgispro-py3\\lib\\site-packages\\requests\\sessions.py\u001b[0m in \u001b[0;36mrequest\u001b[1;34m(self, method, url, params, data, headers, cookies, files, auth, timeout, allow_redirects, proxies, hooks, stream, verify, cert, json)\u001b[0m\n\u001b[0;32m    527\u001b[0m         }\n\u001b[0;32m    528\u001b[0m         \u001b[0msend_kwargs\u001b[0m\u001b[1;33m.\u001b[0m\u001b[0mupdate\u001b[0m\u001b[1;33m(\u001b[0m\u001b[0msettings\u001b[0m\u001b[1;33m)\u001b[0m\u001b[1;33m\u001b[0m\u001b[1;33m\u001b[0m\u001b[0m\n\u001b[1;32m--> 529\u001b[1;33m         \u001b[0mresp\u001b[0m \u001b[1;33m=\u001b[0m \u001b[0mself\u001b[0m\u001b[1;33m.\u001b[0m\u001b[0msend\u001b[0m\u001b[1;33m(\u001b[0m\u001b[0mprep\u001b[0m\u001b[1;33m,\u001b[0m \u001b[1;33m**\u001b[0m\u001b[0msend_kwargs\u001b[0m\u001b[1;33m)\u001b[0m\u001b[1;33m\u001b[0m\u001b[1;33m\u001b[0m\u001b[0m\n\u001b[0m\u001b[0;32m    530\u001b[0m \u001b[1;33m\u001b[0m\u001b[0m\n\u001b[0;32m    531\u001b[0m         \u001b[1;32mreturn\u001b[0m \u001b[0mresp\u001b[0m\u001b[1;33m\u001b[0m\u001b[1;33m\u001b[0m\u001b[0m\n",
      "\u001b[1;32mC:\\Program Files\\ArcGIS\\Pro\\bin\\Python\\envs\\arcgispro-py3\\lib\\site-packages\\requests\\sessions.py\u001b[0m in \u001b[0;36msend\u001b[1;34m(self, request, **kwargs)\u001b[0m\n\u001b[0;32m    637\u001b[0m \u001b[1;33m\u001b[0m\u001b[0m\n\u001b[0;32m    638\u001b[0m         \u001b[1;31m# Get the appropriate adapter to use\u001b[0m\u001b[1;33m\u001b[0m\u001b[1;33m\u001b[0m\u001b[0m\n\u001b[1;32m--> 639\u001b[1;33m         \u001b[0madapter\u001b[0m \u001b[1;33m=\u001b[0m \u001b[0mself\u001b[0m\u001b[1;33m.\u001b[0m\u001b[0mget_adapter\u001b[0m\u001b[1;33m(\u001b[0m\u001b[0murl\u001b[0m\u001b[1;33m=\u001b[0m\u001b[0mrequest\u001b[0m\u001b[1;33m.\u001b[0m\u001b[0murl\u001b[0m\u001b[1;33m)\u001b[0m\u001b[1;33m\u001b[0m\u001b[1;33m\u001b[0m\u001b[0m\n\u001b[0m\u001b[0;32m    640\u001b[0m \u001b[1;33m\u001b[0m\u001b[0m\n\u001b[0;32m    641\u001b[0m         \u001b[1;31m# Start time (approximately) of the request\u001b[0m\u001b[1;33m\u001b[0m\u001b[1;33m\u001b[0m\u001b[0m\n",
      "\u001b[1;32mC:\\Program Files\\ArcGIS\\Pro\\bin\\Python\\envs\\arcgispro-py3\\lib\\site-packages\\requests\\sessions.py\u001b[0m in \u001b[0;36mget_adapter\u001b[1;34m(self, url)\u001b[0m\n\u001b[0;32m    730\u001b[0m \u001b[1;33m\u001b[0m\u001b[0m\n\u001b[0;32m    731\u001b[0m         \u001b[1;31m# Nothing matches :-/\u001b[0m\u001b[1;33m\u001b[0m\u001b[1;33m\u001b[0m\u001b[0m\n\u001b[1;32m--> 732\u001b[1;33m         \u001b[1;32mraise\u001b[0m \u001b[0mInvalidSchema\u001b[0m\u001b[1;33m(\u001b[0m\u001b[1;34m\"No connection adapters were found for {!r}\"\u001b[0m\u001b[1;33m.\u001b[0m\u001b[0mformat\u001b[0m\u001b[1;33m(\u001b[0m\u001b[0murl\u001b[0m\u001b[1;33m)\u001b[0m\u001b[1;33m)\u001b[0m\u001b[1;33m\u001b[0m\u001b[1;33m\u001b[0m\u001b[0m\n\u001b[0m\u001b[0;32m    733\u001b[0m \u001b[1;33m\u001b[0m\u001b[0m\n\u001b[0;32m    734\u001b[0m     \u001b[1;32mdef\u001b[0m \u001b[0mclose\u001b[0m\u001b[1;33m(\u001b[0m\u001b[0mself\u001b[0m\u001b[1;33m)\u001b[0m\u001b[1;33m:\u001b[0m\u001b[1;33m\u001b[0m\u001b[1;33m\u001b[0m\u001b[0m\n",
      "\u001b[1;31mInvalidSchema\u001b[0m: No connection adapters were found for '(\\'https://services2.arcgis.com/kNS2ppBA4rwAQQZy/ArcGIS/rest/services/MO_LAS_Tiles/FeatureServer/0/query?geometryType=esriGeometryPolygon&geometry={\"rings\": [[[-92.13934223565249, 39.17878902120912], [-92.13530835536073, 39.14420521733265], [-92.1421257221542, 39.123535464476845], [-92.1410757056731, 39.09648466736374], [-92.16479022845063, 39.10476687057812], [-92.16362156069019, 39.12720245811418], [-92.19514339909416, 39.13290543824691], [-92.22599704184373, 39.13225454259693], [-92.26800108863446, 39.145858159715075], [-92.30425794690103, 39.1652418760144], [-92.31011813989467, 39.18804546940189], [-92.28512706258937, 39.20265052624866], [-92.25068693020394, 39.21493982530533], [-92.20609389923851, 39.20039319650071], [-92.16712269420438, 39.20209051710156]]], \"spatialReference\": {\"wkid\": 4326}}&inSR=4326&spatialRel=esriSpatialRelIntersects&outFields=FID,OBJECTID,Name_1,ftp_1,Acq_Year_1,ftp,Project,updated_ft,Shape_Leng,Shape_Area,Shape__Area,Shape__Length&returnGeometry=true&outSR=4326&f=json\\', {\\'geometryType\\': \\'esriGeometryPolygon\\', \\'geometry\\': \\'{\"rings\": [[[-92.13934223565249, 39.17878902120912], [-92.13530835536073, 39.14420521733265], [-92.1421257221542, 39.123535464476845], [-92.1410757056731, 39.09648466736374], [-92.16479022845063, 39.10476687057812], [-92.16362156069019, 39.12720245811418], [-92.19514339909416, 39.13290543824691], [-92.22599704184373, 39.13225454259693], [-92.26800108863446, 39.145858159715075], [-92.30425794690103, 39.1652418760144], [-92.31011813989467, 39.18804546940189], [-92.28512706258937, 39.20265052624866], [-92.25068693020394, 39.21493982530533], [-92.20609389923851, 39.20039319650071], [-92.16712269420438, 39.20209051710156]]], \"spatialReference\": {\"wkid\": 4326}}\\', \\'inSR\\': 4326, \\'spatialRel\\': \\'esriSpatialRelIntersects\\', \\'outFields\\': \\'FID,OBJECTID,Name_1,ftp_1,Acq_Year_1,ftp,Project,updated_ft,Shape_Leng,Shape_Area,Shape__Area,Shape__Length\\', \\'returnGeometry\\': \\'true\\', \\'outSR\\': 4326, \\'f\\': \\'json\\'})'"
     ]
    }
   ],
   "source": [
    "get_links= links.get_download_links()"
   ]
  },
  {
   "cell_type": "code",
   "execution_count": null,
   "id": "079e7a63",
   "metadata": {},
   "outputs": [],
   "source": [
    "help(LidarDownloader)"
   ]
  },
  {
   "cell_type": "code",
   "execution_count": null,
   "id": "92e28958",
   "metadata": {},
   "outputs": [],
   "source": [
    "print(dir(msdis_lidar.shapefile_handler))  # Lists the attributes and methods in the module\n"
   ]
  }
 ],
 "metadata": {
  "kernelspec": {
   "display_name": "Python 3",
   "language": "python",
   "name": "python3"
  },
  "language_info": {
   "codemirror_mode": {
    "name": "ipython",
    "version": 3
   },
   "file_extension": ".py",
   "mimetype": "text/x-python",
   "name": "python",
   "nbconvert_exporter": "python",
   "pygments_lexer": "ipython3",
   "version": "3.9.11"
  }
 },
 "nbformat": 4,
 "nbformat_minor": 5
}
