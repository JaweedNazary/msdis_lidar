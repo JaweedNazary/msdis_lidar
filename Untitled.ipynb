{
 "cells": [
  {
   "cell_type": "code",
   "execution_count": 12,
   "id": "68701399",
   "metadata": {
    "scrolled": true
   },
   "outputs": [
    {
     "name": "stdout",
     "output_type": "stream",
     "text": [
      "Defaulting to user installation because normal site-packages is not writeable\n",
      "Processing c:\\users\\mjwd1\\onedrive\\documents\\github\\msdis_lidar\n",
      "  Installing build dependencies: started\n",
      "  Installing build dependencies: finished with status 'done'\n",
      "  Getting requirements to build wheel: started\n",
      "  Getting requirements to build wheel: finished with status 'done'\n",
      "  Preparing metadata (pyproject.toml): started\n",
      "  Preparing metadata (pyproject.toml): finished with status 'done'\n",
      "Requirement already satisfied: geopandas in c:\\users\\mjwd1\\appdata\\roaming\\python\\python39\\site-packages (from msdis-lidar==0.1) (0.12.2)\n",
      "Requirement already satisfied: rich in c:\\users\\mjwd1\\appdata\\roaming\\python\\python39\\site-packages (from msdis-lidar==0.1) (12.6.0)\n",
      "Requirement already satisfied: requests in c:\\program files\\arcgis\\pro\\bin\\python\\envs\\arcgispro-py3\\lib\\site-packages (from msdis-lidar==0.1) (2.27.1)\n",
      "Requirement already satisfied: folium in c:\\users\\mjwd1\\appdata\\roaming\\python\\python39\\site-packages (from msdis-lidar==0.1) (0.14.0)\n",
      "Requirement already satisfied: tabulate in c:\\users\\mjwd1\\appdata\\roaming\\python\\python39\\site-packages (from msdis-lidar==0.1) (0.9.0)\n",
      "Requirement already satisfied: branca>=0.6.0 in c:\\users\\mjwd1\\appdata\\roaming\\python\\python39\\site-packages (from folium->msdis-lidar==0.1) (0.6.0)\n",
      "Requirement already satisfied: jinja2>=2.9 in c:\\program files\\arcgis\\pro\\bin\\python\\envs\\arcgispro-py3\\lib\\site-packages (from folium->msdis-lidar==0.1) (3.0.3)\n",
      "Requirement already satisfied: numpy in c:\\users\\mjwd1\\appdata\\roaming\\python\\python39\\site-packages (from folium->msdis-lidar==0.1) (1.24.0)\n",
      "Requirement already satisfied: pandas>=1.0.0 in c:\\program files\\arcgis\\pro\\bin\\python\\envs\\arcgispro-py3\\lib\\site-packages (from geopandas->msdis-lidar==0.1) (1.3.5)\n",
      "Requirement already satisfied: shapely>=1.7 in c:\\users\\mjwd1\\appdata\\roaming\\python\\python39\\site-packages (from geopandas->msdis-lidar==0.1) (2.0.1)\n",
      "Requirement already satisfied: fiona>=1.8 in c:\\users\\mjwd1\\appdata\\roaming\\python\\python39\\site-packages (from geopandas->msdis-lidar==0.1) (1.9.1)\n",
      "Requirement already satisfied: pyproj>=2.6.1.post1 in c:\\users\\mjwd1\\appdata\\roaming\\python\\python39\\site-packages (from geopandas->msdis-lidar==0.1) (3.4.1)\n",
      "Requirement already satisfied: packaging in c:\\program files\\arcgis\\pro\\bin\\python\\envs\\arcgispro-py3\\lib\\site-packages (from geopandas->msdis-lidar==0.1) (21.3)\n",
      "Requirement already satisfied: urllib3<1.27,>=1.21.1 in c:\\program files\\arcgis\\pro\\bin\\python\\envs\\arcgispro-py3\\lib\\site-packages (from requests->msdis-lidar==0.1) (1.26.8)\n",
      "Requirement already satisfied: certifi>=2017.4.17 in c:\\program files\\arcgis\\pro\\bin\\python\\envs\\arcgispro-py3\\lib\\site-packages (from requests->msdis-lidar==0.1) (2021.10.8)\n",
      "Requirement already satisfied: charset-normalizer~=2.0.0 in c:\\program files\\arcgis\\pro\\bin\\python\\envs\\arcgispro-py3\\lib\\site-packages (from requests->msdis-lidar==0.1) (2.0.4)\n",
      "Requirement already satisfied: idna<4,>=2.5 in c:\\program files\\arcgis\\pro\\bin\\python\\envs\\arcgispro-py3\\lib\\site-packages (from requests->msdis-lidar==0.1) (3.3)\n",
      "Requirement already satisfied: commonmark<0.10.0,>=0.9.0 in c:\\users\\mjwd1\\appdata\\roaming\\python\\python39\\site-packages (from rich->msdis-lidar==0.1) (0.9.1)\n",
      "Requirement already satisfied: pygments<3.0.0,>=2.6.0 in c:\\program files\\arcgis\\pro\\bin\\python\\envs\\arcgispro-py3\\lib\\site-packages (from rich->msdis-lidar==0.1) (2.9.0)\n",
      "Requirement already satisfied: attrs>=19.2.0 in c:\\program files\\arcgis\\pro\\bin\\python\\envs\\arcgispro-py3\\lib\\site-packages (from fiona>=1.8->geopandas->msdis-lidar==0.1) (21.4.0)\n",
      "Requirement already satisfied: click~=8.0 in c:\\program files\\arcgis\\pro\\bin\\python\\envs\\arcgispro-py3\\lib\\site-packages (from fiona>=1.8->geopandas->msdis-lidar==0.1) (8.0.4)\n",
      "Requirement already satisfied: click-plugins>=1.0 in c:\\users\\mjwd1\\appdata\\roaming\\python\\python39\\site-packages (from fiona>=1.8->geopandas->msdis-lidar==0.1) (1.1.1)\n",
      "Requirement already satisfied: cligj>=0.5 in c:\\users\\mjwd1\\appdata\\roaming\\python\\python39\\site-packages (from fiona>=1.8->geopandas->msdis-lidar==0.1) (0.7.2)\n",
      "Requirement already satisfied: munch>=2.3.2 in c:\\users\\mjwd1\\appdata\\roaming\\python\\python39\\site-packages (from fiona>=1.8->geopandas->msdis-lidar==0.1) (2.5.0)\n",
      "Requirement already satisfied: setuptools in c:\\users\\mjwd1\\appdata\\roaming\\python\\python39\\site-packages (from fiona>=1.8->geopandas->msdis-lidar==0.1) (72.1.0)\n",
      "Requirement already satisfied: MarkupSafe>=2.0 in c:\\users\\mjwd1\\appdata\\roaming\\python\\python39\\site-packages (from jinja2>=2.9->folium->msdis-lidar==0.1) (2.1.5)\n",
      "Requirement already satisfied: python-dateutil>=2.7.3 in c:\\program files\\arcgis\\pro\\bin\\python\\envs\\arcgispro-py3\\lib\\site-packages (from pandas>=1.0.0->geopandas->msdis-lidar==0.1) (2.8.2)\n",
      "Requirement already satisfied: pytz>=2017.3 in c:\\program files\\arcgis\\pro\\bin\\python\\envs\\arcgispro-py3\\lib\\site-packages\\pytz-2022.1-py3.9.egg (from pandas>=1.0.0->geopandas->msdis-lidar==0.1) (2022.1)\n",
      "Requirement already satisfied: pyparsing!=3.0.5,>=2.0.2 in c:\\program files\\arcgis\\pro\\bin\\python\\envs\\arcgispro-py3\\lib\\site-packages (from packaging->geopandas->msdis-lidar==0.1) (3.0.4)\n",
      "Requirement already satisfied: colorama in c:\\program files\\arcgis\\pro\\bin\\python\\envs\\arcgispro-py3\\lib\\site-packages (from click~=8.0->fiona>=1.8->geopandas->msdis-lidar==0.1) (0.4.4)\n",
      "Requirement already satisfied: six in c:\\program files\\arcgis\\pro\\bin\\python\\envs\\arcgispro-py3\\lib\\site-packages (from munch>=2.3.2->fiona>=1.8->geopandas->msdis-lidar==0.1) (1.16.0)\n",
      "Building wheels for collected packages: msdis-lidar\n",
      "  Building wheel for msdis-lidar (pyproject.toml): started\n",
      "  Building wheel for msdis-lidar (pyproject.toml): finished with status 'done'\n",
      "  Created wheel for msdis-lidar: filename=msdis_lidar-0.1-py3-none-any.whl size=5687 sha256=cbdb8ba418f816d92909136119f27253bbf062ca7b6aa0003c0dd63d6d9403e7\n",
      "  Stored in directory: C:\\Users\\mjwd1\\AppData\\Local\\Temp\\pip-ephem-wheel-cache-9gfr08ms\\wheels\\d7\\0c\\6e\\3abb280ff339e252f3d0c251b0f4d35491b2383fd4b884a613\n",
      "Successfully built msdis-lidar\n",
      "Installing collected packages: msdis-lidar\n",
      "  Attempting uninstall: msdis-lidar\n",
      "    Found existing installation: msdis-lidar 0.1\n",
      "    Uninstalling msdis-lidar-0.1:\n",
      "      Successfully uninstalled msdis-lidar-0.1\n",
      "Successfully installed msdis-lidar-0.1\n"
     ]
    }
   ],
   "source": [
    "!pip install ."
   ]
  },
  {
   "cell_type": "code",
   "execution_count": 1,
   "id": "6410960b",
   "metadata": {},
   "outputs": [],
   "source": [
    "from msdis_lidar.shapefile_handler import ShapefileHandler\n",
    "from msdis_lidar.downloader import LidarDownloader\n"
   ]
  },
  {
   "cell_type": "code",
   "execution_count": 2,
   "id": "7c6fd542",
   "metadata": {},
   "outputs": [],
   "source": [
    "handler = ShapefileHandler(\"Perche_Creek_HU12.shp\")"
   ]
  },
  {
   "cell_type": "code",
   "execution_count": 3,
   "id": "eb96c142",
   "metadata": {},
   "outputs": [
    {
     "data": {
      "application/vnd.jupyter.widget-view+json": {
       "model_id": "b71dc795d2fe43478d1508a0c28f5b1b",
       "version_major": 2,
       "version_minor": 0
      },
      "text/plain": [
       "Output()"
      ]
     },
     "metadata": {},
     "output_type": "display_data"
    },
    {
     "name": "stdout",
     "output_type": "stream",
     "text": [
      "10 geometries found\n",
      "CRS = EPSG:3857 is not compatible\n",
      "  Projecting to EPSG:4326 ...\n",
      "  Simplifying the polygons...\n"
     ]
    },
    {
     "data": {
      "text/html": [
       "<pre style=\"white-space:pre;overflow-x:auto;line-height:normal;font-family:Menlo,'DejaVu Sans Mono',consolas,'Courier New',monospace\"></pre>\n"
      ],
      "text/plain": []
     },
     "metadata": {},
     "output_type": "display_data"
    },
    {
     "data": {
      "text/html": [
       "<pre style=\"white-space:pre;overflow-x:auto;line-height:normal;font-family:Menlo,'DejaVu Sans Mono',consolas,'Courier New',monospace\">\n",
       "</pre>\n"
      ],
      "text/plain": [
       "\n"
      ]
     },
     "metadata": {},
     "output_type": "display_data"
    }
   ],
   "source": [
    "polys = handler.get_polygon_string()"
   ]
  },
  {
   "cell_type": "code",
   "execution_count": 4,
   "id": "b99bbd8e",
   "metadata": {},
   "outputs": [],
   "source": [
    "links = LidarDownloader(polys)"
   ]
  },
  {
   "cell_type": "code",
   "execution_count": 5,
   "id": "8995ccf9",
   "metadata": {},
   "outputs": [
    {
     "data": {
      "application/vnd.jupyter.widget-view+json": {
       "model_id": "",
       "version_major": 2,
       "version_minor": 0
      },
      "text/plain": [
       "Output()"
      ]
     },
     "metadata": {},
     "output_type": "display_data"
    },
    {
     "data": {
      "text/html": [
       "<pre style=\"white-space:pre;overflow-x:auto;line-height:normal;font-family:Menlo,'DejaVu Sans Mono',consolas,'Courier New',monospace\"></pre>\n"
      ],
      "text/plain": []
     },
     "metadata": {},
     "output_type": "display_data"
    },
    {
     "data": {
      "text/html": [
       "<pre style=\"white-space:pre;overflow-x:auto;line-height:normal;font-family:Menlo,'DejaVu Sans Mono',consolas,'Courier New',monospace\">\n",
       "</pre>\n"
      ],
      "text/plain": [
       "\n"
      ]
     },
     "metadata": {},
     "output_type": "display_data"
    },
    {
     "ename": "AttributeError",
     "evalue": "'str' object has no attribute 'copy'",
     "output_type": "error",
     "traceback": [
      "\u001b[1;31m---------------------------------------------------------------------------\u001b[0m",
      "\u001b[1;31mAttributeError\u001b[0m                            Traceback (most recent call last)",
      "\u001b[1;32m<ipython-input-5-00effda7e622>\u001b[0m in \u001b[0;36m<module>\u001b[1;34m\u001b[0m\n\u001b[1;32m----> 1\u001b[1;33m \u001b[0mget_links\u001b[0m\u001b[1;33m=\u001b[0m \u001b[0mlinks\u001b[0m\u001b[1;33m.\u001b[0m\u001b[0mget_download_links\u001b[0m\u001b[1;33m(\u001b[0m\u001b[1;33m)\u001b[0m\u001b[1;33m\u001b[0m\u001b[1;33m\u001b[0m\u001b[0m\n\u001b[0m",
      "\u001b[1;32m~\\OneDrive\\Documents\\GitHub\\msdis_lidar\\msdis_lidar\\downloader.py\u001b[0m in \u001b[0;36mget_download_links\u001b[1;34m(self)\u001b[0m\n\u001b[0;32m     26\u001b[0m                 \u001b[0mresponse\u001b[0m \u001b[1;33m=\u001b[0m \u001b[0mrequests\u001b[0m\u001b[1;33m.\u001b[0m\u001b[0mget\u001b[0m\u001b[1;33m(\u001b[0m\u001b[0mquery_url\u001b[0m\u001b[1;33m)\u001b[0m\u001b[1;33m\u001b[0m\u001b[1;33m\u001b[0m\u001b[0m\n\u001b[0;32m     27\u001b[0m                 \u001b[1;32mif\u001b[0m \u001b[0mresponse\u001b[0m\u001b[1;33m.\u001b[0m\u001b[0mstatus_code\u001b[0m \u001b[1;33m==\u001b[0m \u001b[1;36m200\u001b[0m\u001b[1;33m:\u001b[0m\u001b[1;33m\u001b[0m\u001b[1;33m\u001b[0m\u001b[0m\n\u001b[1;32m---> 28\u001b[1;33m                     \u001b[0mnew_data\u001b[0m \u001b[1;33m=\u001b[0m \u001b[0mself\u001b[0m\u001b[1;33m.\u001b[0m\u001b[0m_process_response\u001b[0m\u001b[1;33m(\u001b[0m\u001b[0mresponse\u001b[0m\u001b[1;33m)\u001b[0m\u001b[1;33m\u001b[0m\u001b[1;33m\u001b[0m\u001b[0m\n\u001b[0m\u001b[0;32m     29\u001b[0m                     \u001b[1;32mif\u001b[0m \u001b[0mnew_data\u001b[0m \u001b[1;32mis\u001b[0m \u001b[1;32mnot\u001b[0m \u001b[1;32mNone\u001b[0m\u001b[1;33m:\u001b[0m\u001b[1;33m\u001b[0m\u001b[1;33m\u001b[0m\u001b[0m\n\u001b[0;32m     30\u001b[0m                         \u001b[0mself\u001b[0m\u001b[1;33m.\u001b[0m\u001b[0mgdf_lidar\u001b[0m \u001b[1;33m=\u001b[0m \u001b[0mself\u001b[0m\u001b[1;33m.\u001b[0m\u001b[0mgdf_lidar\u001b[0m\u001b[1;33m.\u001b[0m\u001b[0mappend\u001b[0m\u001b[1;33m(\u001b[0m\u001b[0mnew_data\u001b[0m\u001b[1;33m,\u001b[0m \u001b[0mignore_index\u001b[0m\u001b[1;33m=\u001b[0m\u001b[1;32mTrue\u001b[0m\u001b[1;33m)\u001b[0m\u001b[1;33m\u001b[0m\u001b[1;33m\u001b[0m\u001b[0m\n",
      "\u001b[1;32m~\\OneDrive\\Documents\\GitHub\\msdis_lidar\\msdis_lidar\\downloader.py\u001b[0m in \u001b[0;36m_process_response\u001b[1;34m(self, response)\u001b[0m\n\u001b[0;32m     63\u001b[0m         \u001b[0mdata\u001b[0m \u001b[1;33m=\u001b[0m \u001b[0mresponse\u001b[0m\u001b[1;33m.\u001b[0m\u001b[0mjson\u001b[0m\u001b[1;33m(\u001b[0m\u001b[1;33m)\u001b[0m\u001b[1;33m\u001b[0m\u001b[1;33m\u001b[0m\u001b[0m\n\u001b[0;32m     64\u001b[0m         \u001b[1;32mif\u001b[0m \u001b[1;34m'features'\u001b[0m \u001b[1;32min\u001b[0m \u001b[0mdata\u001b[0m \u001b[1;32mand\u001b[0m \u001b[0mdata\u001b[0m\u001b[1;33m[\u001b[0m\u001b[1;34m'features'\u001b[0m\u001b[1;33m]\u001b[0m\u001b[1;33m:\u001b[0m\u001b[1;33m\u001b[0m\u001b[1;33m\u001b[0m\u001b[0m\n\u001b[1;32m---> 65\u001b[1;33m             \u001b[0mexport_params\u001b[0m \u001b[1;33m=\u001b[0m \u001b[0mself\u001b[0m\u001b[1;33m.\u001b[0m\u001b[0m_construct_query_url\u001b[0m\u001b[1;33m(\u001b[0m\u001b[0mdata\u001b[0m\u001b[1;33m)\u001b[0m\u001b[1;33m.\u001b[0m\u001b[0mcopy\u001b[0m\u001b[1;33m(\u001b[0m\u001b[1;33m)\u001b[0m\u001b[1;33m\u001b[0m\u001b[1;33m\u001b[0m\u001b[0m\n\u001b[0m\u001b[0;32m     66\u001b[0m             \u001b[0mexport_params\u001b[0m\u001b[1;33m[\u001b[0m\u001b[1;34m\"f\"\u001b[0m\u001b[1;33m]\u001b[0m \u001b[1;33m=\u001b[0m \u001b[1;34m\"geojson\"\u001b[0m\u001b[1;33m\u001b[0m\u001b[1;33m\u001b[0m\u001b[0m\n\u001b[0;32m     67\u001b[0m             \u001b[0mexport_url\u001b[0m \u001b[1;33m=\u001b[0m \u001b[0mbase_url\u001b[0m \u001b[1;33m+\u001b[0m \u001b[1;34m\"&\"\u001b[0m\u001b[1;33m.\u001b[0m\u001b[0mjoin\u001b[0m\u001b[1;33m(\u001b[0m\u001b[1;33m[\u001b[0m\u001b[1;34mf\"{k}={v}\"\u001b[0m \u001b[1;32mfor\u001b[0m \u001b[0mk\u001b[0m\u001b[1;33m,\u001b[0m \u001b[0mv\u001b[0m \u001b[1;32min\u001b[0m \u001b[0mexport_params\u001b[0m\u001b[1;33m.\u001b[0m\u001b[0mitems\u001b[0m\u001b[1;33m(\u001b[0m\u001b[1;33m)\u001b[0m\u001b[1;33m]\u001b[0m\u001b[1;33m)\u001b[0m\u001b[1;33m\u001b[0m\u001b[1;33m\u001b[0m\u001b[0m\n",
      "\u001b[1;31mAttributeError\u001b[0m: 'str' object has no attribute 'copy'"
     ]
    }
   ],
   "source": [
    "get_links= links.get_download_links()"
   ]
  },
  {
   "cell_type": "code",
   "execution_count": 10,
   "id": "71db4660",
   "metadata": {},
   "outputs": [
    {
     "name": "stdout",
     "output_type": "stream",
     "text": [
      "Help on class LidarDownloader in module msdis_lidar.downloader:\n",
      "\n",
      "class LidarDownloader(builtins.object)\n",
      " |  LidarDownloader(polygons)\n",
      " |  \n",
      " |  Methods defined here:\n",
      " |  \n",
      " |  __init__(self, polygons)\n",
      " |      Initialize self.  See help(type(self)) for accurate signature.\n",
      " |  \n",
      " |  download_files(self, urls, names)\n",
      " |  \n",
      " |  get_download_links(self)\n",
      " |  \n",
      " |  ----------------------------------------------------------------------\n",
      " |  Data descriptors defined here:\n",
      " |  \n",
      " |  __dict__\n",
      " |      dictionary for instance variables (if defined)\n",
      " |  \n",
      " |  __weakref__\n",
      " |      list of weak references to the object (if defined)\n",
      "\n"
     ]
    }
   ],
   "source": [
    "help(LidarDownloader)"
   ]
  },
  {
   "cell_type": "code",
   "execution_count": null,
   "id": "6d0402a8",
   "metadata": {},
   "outputs": [],
   "source": [
    "print(dir(msdis_lidar.shapefile_handler))  # Lists the attributes and methods in the module\n"
   ]
  }
 ],
 "metadata": {
  "kernelspec": {
   "display_name": "Python 3",
   "language": "python",
   "name": "python3"
  },
  "language_info": {
   "codemirror_mode": {
    "name": "ipython",
    "version": 3
   },
   "file_extension": ".py",
   "mimetype": "text/x-python",
   "name": "python",
   "nbconvert_exporter": "python",
   "pygments_lexer": "ipython3",
   "version": "3.9.11"
  }
 },
 "nbformat": 4,
 "nbformat_minor": 5
}
