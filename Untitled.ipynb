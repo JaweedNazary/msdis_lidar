{
 "cells": [
  {
   "cell_type": "code",
   "execution_count": null,
   "id": "102b7a54",
   "metadata": {
    "scrolled": true
   },
   "outputs": [],
   "source": [
    "!pip install ."
   ]
  },
  {
   "cell_type": "code",
   "execution_count": 1,
   "id": "a42d714b",
   "metadata": {},
   "outputs": [],
   "source": [
    "from msdis_lidar.shapefile_handler import ShapefileHandler\n",
    "from msdis_lidar.downloader import LidarDownloader\n"
   ]
  },
  {
   "cell_type": "code",
   "execution_count": 2,
   "id": "04533997",
   "metadata": {},
   "outputs": [],
   "source": [
    "handler = ShapefileHandler(\"Perche_Creek_HU12.shp\")"
   ]
  },
  {
   "cell_type": "code",
   "execution_count": 3,
   "id": "d9d09d66",
   "metadata": {},
   "outputs": [
    {
     "data": {
      "application/vnd.jupyter.widget-view+json": {
       "model_id": "a0d549a5838e47059ace73410d775ebe",
       "version_major": 2,
       "version_minor": 0
      },
      "text/plain": [
       "Output()"
      ]
     },
     "metadata": {},
     "output_type": "display_data"
    },
    {
     "name": "stdout",
     "output_type": "stream",
     "text": [
      "10 geometries found\n",
      "CRS = EPSG:3857 is not compatible\n",
      "  Projecting to EPSG:4326 ...\n",
      "  Simplifying the polygons...\n"
     ]
    },
    {
     "data": {
      "text/html": [
       "<pre style=\"white-space:pre;overflow-x:auto;line-height:normal;font-family:Menlo,'DejaVu Sans Mono',consolas,'Courier New',monospace\"></pre>\n"
      ],
      "text/plain": []
     },
     "metadata": {},
     "output_type": "display_data"
    },
    {
     "data": {
      "text/html": [
       "<pre style=\"white-space:pre;overflow-x:auto;line-height:normal;font-family:Menlo,'DejaVu Sans Mono',consolas,'Courier New',monospace\">\n",
       "</pre>\n"
      ],
      "text/plain": [
       "\n"
      ]
     },
     "metadata": {},
     "output_type": "display_data"
    }
   ],
   "source": [
    "polys = handler.get_polygon_string()"
   ]
  },
  {
   "cell_type": "code",
   "execution_count": 8,
   "id": "cfaefe95",
   "metadata": {},
   "outputs": [],
   "source": [
    "downloader = LidarDownloader(\"ddd\")"
   ]
  },
  {
   "cell_type": "code",
   "execution_count": 9,
   "id": "37798a40",
   "metadata": {},
   "outputs": [
    {
     "data": {
      "application/vnd.jupyter.widget-view+json": {
       "model_id": "",
       "version_major": 2,
       "version_minor": 0
      },
      "text/plain": [
       "Output()"
      ]
     },
     "metadata": {},
     "output_type": "display_data"
    },
    {
     "data": {
      "text/html": [
       "<pre style=\"white-space:pre;overflow-x:auto;line-height:normal;font-family:Menlo,'DejaVu Sans Mono',consolas,'Courier New',monospace\"></pre>\n"
      ],
      "text/plain": []
     },
     "metadata": {},
     "output_type": "display_data"
    },
    {
     "data": {
      "text/html": [
       "<pre style=\"white-space:pre;overflow-x:auto;line-height:normal;font-family:Menlo,'DejaVu Sans Mono',consolas,'Courier New',monospace\">\n",
       "</pre>\n"
      ],
      "text/plain": [
       "\n"
      ]
     },
     "metadata": {},
     "output_type": "display_data"
    },
    {
     "name": "stdout",
     "output_type": "stream",
     "text": [
      "Downloaded links for 3432 LiDAR tiles have been fetched successfully.\n"
     ]
    }
   ],
   "source": [
    "url_gdf = downloader.fetch_lidar_download_links(polys)"
   ]
  },
  {
   "cell_type": "code",
   "execution_count": null,
   "id": "b2793e20",
   "metadata": {},
   "outputs": [],
   "source": [
    "import geopandas as gpd\n",
    "from rich.progress import track, Progress, BarColumn, TextColumn\n",
    "from rich.console import Console\n",
    "\n",
    "import time\n",
    "from rich import print\n",
    "import json\n",
    "import requests\n",
    "\n",
    "import os"
   ]
  },
  {
   "cell_type": "code",
   "execution_count": null,
   "id": "e8e9a0bb",
   "metadata": {},
   "outputs": [],
   "source": [
    "def get_polygon_sting_from_shapefile(shapefile):\n",
    "    gdf = gpd.read_file(shapefile)\n",
    "    print(f\"{len(gdf.geometry)} geometries found\")   \n",
    "    if gdf.crs.to_string() != \"EPSG:4326\":\n",
    "        print(f'CRS = {gdf.crs} is not compatible')\n",
    "        reprojected_gdf = gdf.to_crs(\"EPSG:4326\")\n",
    "        print(f\"  Projecting to {reprojected_gdf.crs} ...\")\n",
    "        print(f\"  Simplifying the polygons...\")\n",
    "    \n",
    "    polygons = []\n",
    "    m = 0\n",
    "    for i in track(range(len(gdf.geometry)), description = f\"Getting geometries info...\"):\n",
    "        m+=1\n",
    "        polygon_coords = []\n",
    "\n",
    "        for coordinates in reprojected_gdf.geometry[i].boundary.coords:\n",
    "            polygon_coords.append([coordinates[0], coordinates[1]])\n",
    "\n",
    "        nodes = len(polygon_coords)\n",
    "\n",
    "        if nodes > 30: \n",
    "            print(f'\\rToo many nodes for MSDIS,  current number of nodes: {nodes}, trying fewer nodes...')\n",
    "\n",
    "            sample_every = [2, 5, 10, 20, 50, 100, 200, 500, 1000]\n",
    "\n",
    "            while nodes >= 30.0: \n",
    "                for sample_no in sample_every:\n",
    "                    polygon_coords = []\n",
    "                    n = 0\n",
    "                    for coordinates in reprojected_gdf.geometry[i].boundary.coords:\n",
    "                        n+=1\n",
    "                        if n %sample_no == 0:\n",
    "                            polygon_coords.append([coordinates[0], coordinates[1]])\n",
    "\n",
    "                    nodes = len(polygon_coords) \n",
    "\n",
    "\n",
    "                    if nodes <= 30:\n",
    "                        break  # Exit the for loop if nodes are less than or equal to 30\n",
    "                if nodes <= 30:\n",
    "                    break  # Exit the while loop if nodes are less than or equal to 30\n",
    "            print(f'\\r         Nodes reduced to {nodes} by sampling every {sample_no} point', end ='', flush = True)\n",
    "            polygons.append(polygon_coords)\n",
    "    return(polygons, reprojected_gdf)"
   ]
  },
  {
   "cell_type": "code",
   "execution_count": null,
   "id": "0326bcbd",
   "metadata": {},
   "outputs": [],
   "source": [
    "polys, gdf = get_polygon_sting_from_shapefile(\"Perche_Creek_HU12.shp\")   "
   ]
  },
  {
   "cell_type": "code",
   "execution_count": null,
   "id": "04234bd2",
   "metadata": {},
   "outputs": [],
   "source": [
    "get_links= links.get_download_links()"
   ]
  },
  {
   "cell_type": "code",
   "execution_count": null,
   "id": "6f134245",
   "metadata": {},
   "outputs": [],
   "source": [
    "import requests\n",
    "import json\n",
    "import geopandas as gpd\n",
    "from rich.progress import Progress, TextColumn, BarColumn\n",
    "\n",
    "class LidarDownloader:\n",
    "    def __init__(self, base_url):\n",
    "        self.base_url = base_url\n",
    "\n",
    "    def fetch_lidar_download_links(self, polygons):\n",
    "        # Initialize an empty GeoDataFrame to store the results\n",
    "        gdf_lidar = gpd.GeoDataFrame()\n",
    "\n",
    "        total_polygons = len(polygons)  # Total number of polygons\n",
    "\n",
    "        with Progress(\n",
    "            TextColumn(\"[progress.description]{task.description}\"),\n",
    "            BarColumn(),\n",
    "            TextColumn(\"[progress.percentage]{task.percentage:>6.2f}%\"),\n",
    "            TextColumn(\"[progress.completed]{task.completed}/{task.total}\"),\n",
    "            transient=True,\n",
    "        ) as progress:\n",
    "            task = progress.add_task(\"Fetching LiDAR Download Links\", total=total_polygons)\n",
    "\n",
    "            for index, poly in enumerate(polygons):\n",
    "                progress.update(task, description=f\"Fetching LiDAR Download Links for polygon {index + 1} of {total_polygons}\")\n",
    "\n",
    "                # Convert polygon coordinates to a string format required by the ArcGIS API\n",
    "                polygon_string = json.dumps({\n",
    "                    \"rings\": [poly],\n",
    "                    \"spatialReference\": {\"wkid\": 4326}\n",
    "                })\n",
    "\n",
    "\n",
    "                # List of fields to include in the query\n",
    "                fields = [\n",
    "                    \"FID\",\n",
    "                    \"OBJECTID\",\n",
    "                    \"Name_1\",\n",
    "                    \"ftp_1\",\n",
    "                    \"Acq_Year_1\",\n",
    "                    \"ftp\",\n",
    "                    \"Project\",\n",
    "                    \"updated_ft\",\n",
    "                    \"Shape_Leng\",\n",
    "                    \"Shape_Area\",\n",
    "                    \"Shape__Area\",\n",
    "                    \"Shape__Length\"\n",
    "                ]\n",
    "                        \n",
    "            \n",
    "                base_url = \"https://services2.arcgis.com/kNS2ppBA4rwAQQZy/ArcGIS/rest/services/MO_LAS_Tiles/FeatureServer/0/query?\"\n",
    "                \n",
    "                # Construct the query URL\n",
    "                query_params = {\n",
    "                    \"geometryType\": \"esriGeometryPolygon\",\n",
    "                    \"geometry\": polygon_string,\n",
    "                    \"inSR\": 4326,\n",
    "                    \"spatialRel\": \"esriSpatialRelIntersects\",\n",
    "                    \"outFields\": \",\".join(fields),\n",
    "                    \"returnGeometry\": \"true\",\n",
    "                    \"outSR\": 4326,\n",
    "                    \"f\": \"json\"\n",
    "                }\n",
    "                query_url = base_url + \"&\".join([f\"{k}={v}\" for k, v in query_params.items()])\n",
    "\n",
    "                # Send GET request\n",
    "                response = requests.get(query_url)\n",
    "\n",
    "                # Check if request was successful\n",
    "                if response.status_code == 200:\n",
    "                    data = response.json()\n",
    "\n",
    "                    if 'features' in data and data['features']:\n",
    "                        # Prepare a URL for exporting the data to GeoJSON\n",
    "                        export_params = query_params.copy()\n",
    "                        export_params[\"f\"] = \"geojson\"\n",
    "                        export_url = base_url + \"&\".join([f\"{k}={v}\" for k, v in export_params.items()])\n",
    "\n",
    "                        # Send GET request to export URL\n",
    "                        export_response = requests.get(export_url)\n",
    "\n",
    "                        # Check if export request was successful\n",
    "                        if export_response.status_code == 200:\n",
    "                            # Load the data into GeoDataFrame\n",
    "                            export_data = export_response.json()\n",
    "                            new_data = gpd.GeoDataFrame.from_features(export_data['features'])\n",
    "\n",
    "                            # Append the new data to the existing GeoDataFrame\n",
    "                            if not gdf_lidar.empty:\n",
    "                                gdf_lidar = gdf_lidar.append(new_data, ignore_index=True)\n",
    "                            else:\n",
    "                                gdf_lidar = new_data\n",
    "                else:\n",
    "                    # Handle errors silently\n",
    "                    pass\n",
    "\n",
    "                progress.update(task, advance=1)\n",
    "\n",
    "        print(f\"Downloaded links for {len(gdf_lidar)} LiDAR tiles have been fetched successfully.\")\n",
    "        return gdf_lidar\n"
   ]
  },
  {
   "cell_type": "code",
   "execution_count": null,
   "id": "7a988300",
   "metadata": {
    "scrolled": false
   },
   "outputs": [],
   "source": [
    "url = links.fetch_lidar_download_links(polys)"
   ]
  }
 ],
 "metadata": {
  "kernelspec": {
   "display_name": "Python 3",
   "language": "python",
   "name": "python3"
  },
  "language_info": {
   "codemirror_mode": {
    "name": "ipython",
    "version": 3
   },
   "file_extension": ".py",
   "mimetype": "text/x-python",
   "name": "python",
   "nbconvert_exporter": "python",
   "pygments_lexer": "ipython3",
   "version": "3.9.11"
  }
 },
 "nbformat": 4,
 "nbformat_minor": 5
}
