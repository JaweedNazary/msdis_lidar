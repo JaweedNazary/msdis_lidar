{
 "cells": [
  {
   "cell_type": "code",
   "execution_count": 3,
   "id": "ee40b385",
   "metadata": {
    "scrolled": true
   },
   "outputs": [
    {
     "name": "stdout",
     "output_type": "stream",
     "text": [
      "Defaulting to user installation because normal site-packages is not writeable\n",
      "Processing c:\\users\\mjwd1\\onedrive\\documents\\github\\msdis_lidar\n",
      "  Installing build dependencies: started\n",
      "  Installing build dependencies: finished with status 'done'\n",
      "  Getting requirements to build wheel: started\n",
      "  Getting requirements to build wheel: finished with status 'done'\n",
      "  Preparing metadata (pyproject.toml): started\n",
      "  Preparing metadata (pyproject.toml): finished with status 'done'\n",
      "Requirement already satisfied: geopandas in c:\\users\\mjwd1\\appdata\\roaming\\python\\python39\\site-packages (from msdis-lidar==0.1) (0.12.2)\n",
      "Requirement already satisfied: rich in c:\\users\\mjwd1\\appdata\\roaming\\python\\python39\\site-packages (from msdis-lidar==0.1) (12.6.0)\n",
      "Requirement already satisfied: requests in c:\\program files\\arcgis\\pro\\bin\\python\\envs\\arcgispro-py3\\lib\\site-packages (from msdis-lidar==0.1) (2.27.1)\n",
      "Requirement already satisfied: folium in c:\\users\\mjwd1\\appdata\\roaming\\python\\python39\\site-packages (from msdis-lidar==0.1) (0.14.0)\n",
      "Requirement already satisfied: tabulate in c:\\users\\mjwd1\\appdata\\roaming\\python\\python39\\site-packages (from msdis-lidar==0.1) (0.9.0)\n",
      "Requirement already satisfied: branca>=0.6.0 in c:\\users\\mjwd1\\appdata\\roaming\\python\\python39\\site-packages (from folium->msdis-lidar==0.1) (0.6.0)\n",
      "Requirement already satisfied: jinja2>=2.9 in c:\\program files\\arcgis\\pro\\bin\\python\\envs\\arcgispro-py3\\lib\\site-packages (from folium->msdis-lidar==0.1) (3.0.3)\n",
      "Requirement already satisfied: numpy in c:\\users\\mjwd1\\appdata\\roaming\\python\\python39\\site-packages (from folium->msdis-lidar==0.1) (1.24.0)\n",
      "Requirement already satisfied: pandas>=1.0.0 in c:\\program files\\arcgis\\pro\\bin\\python\\envs\\arcgispro-py3\\lib\\site-packages (from geopandas->msdis-lidar==0.1) (1.3.5)\n",
      "Requirement already satisfied: shapely>=1.7 in c:\\users\\mjwd1\\appdata\\roaming\\python\\python39\\site-packages (from geopandas->msdis-lidar==0.1) (2.0.1)\n",
      "Requirement already satisfied: fiona>=1.8 in c:\\users\\mjwd1\\appdata\\roaming\\python\\python39\\site-packages (from geopandas->msdis-lidar==0.1) (1.9.1)\n",
      "Requirement already satisfied: pyproj>=2.6.1.post1 in c:\\users\\mjwd1\\appdata\\roaming\\python\\python39\\site-packages (from geopandas->msdis-lidar==0.1) (3.4.1)\n",
      "Requirement already satisfied: packaging in c:\\program files\\arcgis\\pro\\bin\\python\\envs\\arcgispro-py3\\lib\\site-packages (from geopandas->msdis-lidar==0.1) (21.3)\n",
      "Requirement already satisfied: urllib3<1.27,>=1.21.1 in c:\\program files\\arcgis\\pro\\bin\\python\\envs\\arcgispro-py3\\lib\\site-packages (from requests->msdis-lidar==0.1) (1.26.8)\n",
      "Requirement already satisfied: certifi>=2017.4.17 in c:\\program files\\arcgis\\pro\\bin\\python\\envs\\arcgispro-py3\\lib\\site-packages (from requests->msdis-lidar==0.1) (2021.10.8)\n",
      "Requirement already satisfied: charset-normalizer~=2.0.0 in c:\\program files\\arcgis\\pro\\bin\\python\\envs\\arcgispro-py3\\lib\\site-packages (from requests->msdis-lidar==0.1) (2.0.4)\n",
      "Requirement already satisfied: idna<4,>=2.5 in c:\\program files\\arcgis\\pro\\bin\\python\\envs\\arcgispro-py3\\lib\\site-packages (from requests->msdis-lidar==0.1) (3.3)\n",
      "Requirement already satisfied: commonmark<0.10.0,>=0.9.0 in c:\\users\\mjwd1\\appdata\\roaming\\python\\python39\\site-packages (from rich->msdis-lidar==0.1) (0.9.1)\n",
      "Requirement already satisfied: pygments<3.0.0,>=2.6.0 in c:\\program files\\arcgis\\pro\\bin\\python\\envs\\arcgispro-py3\\lib\\site-packages (from rich->msdis-lidar==0.1) (2.9.0)\n",
      "Requirement already satisfied: attrs>=19.2.0 in c:\\program files\\arcgis\\pro\\bin\\python\\envs\\arcgispro-py3\\lib\\site-packages (from fiona>=1.8->geopandas->msdis-lidar==0.1) (21.4.0)\n",
      "Requirement already satisfied: click~=8.0 in c:\\program files\\arcgis\\pro\\bin\\python\\envs\\arcgispro-py3\\lib\\site-packages (from fiona>=1.8->geopandas->msdis-lidar==0.1) (8.0.4)\n",
      "Requirement already satisfied: click-plugins>=1.0 in c:\\users\\mjwd1\\appdata\\roaming\\python\\python39\\site-packages (from fiona>=1.8->geopandas->msdis-lidar==0.1) (1.1.1)\n",
      "Requirement already satisfied: cligj>=0.5 in c:\\users\\mjwd1\\appdata\\roaming\\python\\python39\\site-packages (from fiona>=1.8->geopandas->msdis-lidar==0.1) (0.7.2)\n",
      "Requirement already satisfied: munch>=2.3.2 in c:\\users\\mjwd1\\appdata\\roaming\\python\\python39\\site-packages (from fiona>=1.8->geopandas->msdis-lidar==0.1) (2.5.0)\n",
      "Requirement already satisfied: setuptools in c:\\users\\mjwd1\\appdata\\roaming\\python\\python39\\site-packages (from fiona>=1.8->geopandas->msdis-lidar==0.1) (72.1.0)\n",
      "Requirement already satisfied: MarkupSafe>=2.0 in c:\\users\\mjwd1\\appdata\\roaming\\python\\python39\\site-packages (from jinja2>=2.9->folium->msdis-lidar==0.1) (2.1.5)\n",
      "Requirement already satisfied: python-dateutil>=2.7.3 in c:\\program files\\arcgis\\pro\\bin\\python\\envs\\arcgispro-py3\\lib\\site-packages (from pandas>=1.0.0->geopandas->msdis-lidar==0.1) (2.8.2)\n",
      "Requirement already satisfied: pytz>=2017.3 in c:\\program files\\arcgis\\pro\\bin\\python\\envs\\arcgispro-py3\\lib\\site-packages\\pytz-2022.1-py3.9.egg (from pandas>=1.0.0->geopandas->msdis-lidar==0.1) (2022.1)\n",
      "Requirement already satisfied: pyparsing!=3.0.5,>=2.0.2 in c:\\program files\\arcgis\\pro\\bin\\python\\envs\\arcgispro-py3\\lib\\site-packages (from packaging->geopandas->msdis-lidar==0.1) (3.0.4)\n",
      "Requirement already satisfied: colorama in c:\\program files\\arcgis\\pro\\bin\\python\\envs\\arcgispro-py3\\lib\\site-packages (from click~=8.0->fiona>=1.8->geopandas->msdis-lidar==0.1) (0.4.4)\n",
      "Requirement already satisfied: six in c:\\program files\\arcgis\\pro\\bin\\python\\envs\\arcgispro-py3\\lib\\site-packages (from munch>=2.3.2->fiona>=1.8->geopandas->msdis-lidar==0.1) (1.16.0)\n",
      "Building wheels for collected packages: msdis-lidar\n",
      "  Building wheel for msdis-lidar (pyproject.toml): started\n",
      "  Building wheel for msdis-lidar (pyproject.toml): finished with status 'done'\n",
      "  Created wheel for msdis-lidar: filename=msdis_lidar-0.1-py3-none-any.whl size=5674 sha256=4db1e559a7914403e7bcebbdcebc967f0696a2a952a858dc848a16b0664ffcc8\n",
      "  Stored in directory: C:\\Users\\mjwd1\\AppData\\Local\\Temp\\pip-ephem-wheel-cache-50rmhv6f\\wheels\\d7\\0c\\6e\\3abb280ff339e252f3d0c251b0f4d35491b2383fd4b884a613\n",
      "Successfully built msdis-lidar\n",
      "Installing collected packages: msdis-lidar\n",
      "  Attempting uninstall: msdis-lidar\n",
      "    Found existing installation: msdis-lidar 0.1\n",
      "    Uninstalling msdis-lidar-0.1:\n",
      "      Successfully uninstalled msdis-lidar-0.1\n",
      "Successfully installed msdis-lidar-0.1\n"
     ]
    }
   ],
   "source": [
    "!pip install ."
   ]
  },
  {
   "cell_type": "code",
   "execution_count": 4,
   "id": "aef3b5fa",
   "metadata": {},
   "outputs": [],
   "source": [
    "from msdis_lidar.shapefile_handler import ShapefileHandler\n",
    "from msdis_lidar.downloader import LidarDownloader"
   ]
  },
  {
   "cell_type": "code",
   "execution_count": 7,
   "id": "75382cea",
   "metadata": {},
   "outputs": [],
   "source": [
    "import msdis_lidar.downloader"
   ]
  },
  {
   "cell_type": "code",
   "execution_count": 9,
   "id": "2e1183ad",
   "metadata": {},
   "outputs": [
    {
     "name": "stdout",
     "output_type": "stream",
     "text": [
      "Help on package msdis_lidar:\n",
      "\n",
      "NAME\n",
      "    msdis_lidar\n",
      "\n",
      "PACKAGE CONTENTS\n",
      "    downloader\n",
      "    shapefile_handler\n",
      "    utils\n",
      "    visualization\n",
      "\n",
      "VERSION\n",
      "    0.1\n",
      "\n",
      "FILE\n",
      "    c:\\users\\mjwd1\\onedrive\\documents\\github\\msdis_lidar\\msdis_lidar\\__init__.py\n",
      "\n",
      "\n"
     ]
    }
   ],
   "source": [
    "help(msdis_lidar)"
   ]
  },
  {
   "cell_type": "code",
   "execution_count": null,
   "id": "5ceb4925",
   "metadata": {},
   "outputs": [],
   "source": [
    "handler = ShapefileHandler(\"Perche_Creek_HU12.shp\")"
   ]
  },
  {
   "cell_type": "code",
   "execution_count": null,
   "id": "742808ef",
   "metadata": {},
   "outputs": [],
   "source": [
    "polys = handler.get_polygon_string()"
   ]
  },
  {
   "cell_type": "code",
   "execution_count": null,
   "id": "e64351b0",
   "metadata": {},
   "outputs": [],
   "source": [
    "downloader = LidarDownloader(\"ddd\")"
   ]
  },
  {
   "cell_type": "code",
   "execution_count": null,
   "id": "2a34f0c8",
   "metadata": {},
   "outputs": [],
   "source": [
    "url_gdf = downloader.fetch_lidar_download_links(polys)"
   ]
  },
  {
   "cell_type": "code",
   "execution_count": null,
   "id": "8b50c822",
   "metadata": {},
   "outputs": [],
   "source": [
    "import geopandas as gpd\n",
    "from rich.progress import track, Progress, BarColumn, TextColumn\n",
    "from rich.console import Console\n",
    "\n",
    "import time\n",
    "from rich import print\n",
    "import json\n",
    "import requests\n",
    "\n",
    "import os"
   ]
  },
  {
   "cell_type": "code",
   "execution_count": null,
   "id": "3d610cf1",
   "metadata": {},
   "outputs": [],
   "source": [
    "def get_polygon_sting_from_shapefile(shapefile):\n",
    "    gdf = gpd.read_file(shapefile)\n",
    "    print(f\"{len(gdf.geometry)} geometries found\")   \n",
    "    if gdf.crs.to_string() != \"EPSG:4326\":\n",
    "        print(f'CRS = {gdf.crs} is not compatible')\n",
    "        reprojected_gdf = gdf.to_crs(\"EPSG:4326\")\n",
    "        print(f\"  Projecting to {reprojected_gdf.crs} ...\")\n",
    "        print(f\"  Simplifying the polygons...\")\n",
    "    \n",
    "    polygons = []\n",
    "    m = 0\n",
    "    for i in track(range(len(gdf.geometry)), description = f\"Getting geometries info...\"):\n",
    "        m+=1\n",
    "        polygon_coords = []\n",
    "\n",
    "        for coordinates in reprojected_gdf.geometry[i].boundary.coords:\n",
    "            polygon_coords.append([coordinates[0], coordinates[1]])\n",
    "\n",
    "        nodes = len(polygon_coords)\n",
    "\n",
    "        if nodes > 30: \n",
    "            print(f'\\rToo many nodes for MSDIS,  current number of nodes: {nodes}, trying fewer nodes...')\n",
    "\n",
    "            sample_every = [2, 5, 10, 20, 50, 100, 200, 500, 1000]\n",
    "\n",
    "            while nodes >= 30.0: \n",
    "                for sample_no in sample_every:\n",
    "                    polygon_coords = []\n",
    "                    n = 0\n",
    "                    for coordinates in reprojected_gdf.geometry[i].boundary.coords:\n",
    "                        n+=1\n",
    "                        if n %sample_no == 0:\n",
    "                            polygon_coords.append([coordinates[0], coordinates[1]])\n",
    "\n",
    "                    nodes = len(polygon_coords) \n",
    "\n",
    "\n",
    "                    if nodes <= 30:\n",
    "                        break  # Exit the for loop if nodes are less than or equal to 30\n",
    "                if nodes <= 30:\n",
    "                    break  # Exit the while loop if nodes are less than or equal to 30\n",
    "            print(f'\\r         Nodes reduced to {nodes} by sampling every {sample_no} point', end ='', flush = True)\n",
    "            polygons.append(polygon_coords)\n",
    "    return(polygons, reprojected_gdf)"
   ]
  },
  {
   "cell_type": "code",
   "execution_count": null,
   "id": "3c039975",
   "metadata": {},
   "outputs": [],
   "source": [
    "polys, gdf = get_polygon_sting_from_shapefile(\"Perche_Creek_HU12.shp\")   "
   ]
  },
  {
   "cell_type": "code",
   "execution_count": null,
   "id": "340d5744",
   "metadata": {},
   "outputs": [],
   "source": [
    "get_links= links.get_download_links()"
   ]
  },
  {
   "cell_type": "code",
   "execution_count": null,
   "id": "336f6b20",
   "metadata": {},
   "outputs": [],
   "source": [
    "import requests\n",
    "import json\n",
    "import geopandas as gpd\n",
    "from rich.progress import Progress, TextColumn, BarColumn\n",
    "\n",
    "class LidarDownloader:\n",
    "    def __init__(self, base_url):\n",
    "        self.base_url = base_url\n",
    "\n",
    "    def fetch_lidar_download_links(self, polygons):\n",
    "        # Initialize an empty GeoDataFrame to store the results\n",
    "        gdf_lidar = gpd.GeoDataFrame()\n",
    "\n",
    "        total_polygons = len(polygons)  # Total number of polygons\n",
    "\n",
    "        with Progress(\n",
    "            TextColumn(\"[progress.description]{task.description}\"),\n",
    "            BarColumn(),\n",
    "            TextColumn(\"[progress.percentage]{task.percentage:>6.2f}%\"),\n",
    "            TextColumn(\"[progress.completed]{task.completed}/{task.total}\"),\n",
    "            transient=True,\n",
    "        ) as progress:\n",
    "            task = progress.add_task(\"Fetching LiDAR Download Links\", total=total_polygons)\n",
    "\n",
    "            for index, poly in enumerate(polygons):\n",
    "                progress.update(task, description=f\"Fetching LiDAR Download Links for polygon {index + 1} of {total_polygons}\")\n",
    "\n",
    "                # Convert polygon coordinates to a string format required by the ArcGIS API\n",
    "                polygon_string = json.dumps({\n",
    "                    \"rings\": [poly],\n",
    "                    \"spatialReference\": {\"wkid\": 4326}\n",
    "                })\n",
    "\n",
    "\n",
    "                # List of fields to include in the query\n",
    "                fields = [\n",
    "                    \"FID\",\n",
    "                    \"OBJECTID\",\n",
    "                    \"Name_1\",\n",
    "                    \"ftp_1\",\n",
    "                    \"Acq_Year_1\",\n",
    "                    \"ftp\",\n",
    "                    \"Project\",\n",
    "                    \"updated_ft\",\n",
    "                    \"Shape_Leng\",\n",
    "                    \"Shape_Area\",\n",
    "                    \"Shape__Area\",\n",
    "                    \"Shape__Length\"\n",
    "                ]\n",
    "                        \n",
    "            \n",
    "                base_url = \"https://services2.arcgis.com/kNS2ppBA4rwAQQZy/ArcGIS/rest/services/MO_LAS_Tiles/FeatureServer/0/query?\"\n",
    "                \n",
    "                # Construct the query URL\n",
    "                query_params = {\n",
    "                    \"geometryType\": \"esriGeometryPolygon\",\n",
    "                    \"geometry\": polygon_string,\n",
    "                    \"inSR\": 4326,\n",
    "                    \"spatialRel\": \"esriSpatialRelIntersects\",\n",
    "                    \"outFields\": \",\".join(fields),\n",
    "                    \"returnGeometry\": \"true\",\n",
    "                    \"outSR\": 4326,\n",
    "                    \"f\": \"json\"\n",
    "                }\n",
    "                query_url = base_url + \"&\".join([f\"{k}={v}\" for k, v in query_params.items()])\n",
    "\n",
    "                # Send GET request\n",
    "                response = requests.get(query_url)\n",
    "\n",
    "                # Check if request was successful\n",
    "                if response.status_code == 200:\n",
    "                    data = response.json()\n",
    "\n",
    "                    if 'features' in data and data['features']:\n",
    "                        # Prepare a URL for exporting the data to GeoJSON\n",
    "                        export_params = query_params.copy()\n",
    "                        export_params[\"f\"] = \"geojson\"\n",
    "                        export_url = base_url + \"&\".join([f\"{k}={v}\" for k, v in export_params.items()])\n",
    "\n",
    "                        # Send GET request to export URL\n",
    "                        export_response = requests.get(export_url)\n",
    "\n",
    "                        # Check if export request was successful\n",
    "                        if export_response.status_code == 200:\n",
    "                            # Load the data into GeoDataFrame\n",
    "                            export_data = export_response.json()\n",
    "                            new_data = gpd.GeoDataFrame.from_features(export_data['features'])\n",
    "\n",
    "                            # Append the new data to the existing GeoDataFrame\n",
    "                            if not gdf_lidar.empty:\n",
    "                                gdf_lidar = gdf_lidar.append(new_data, ignore_index=True)\n",
    "                            else:\n",
    "                                gdf_lidar = new_data\n",
    "                else:\n",
    "                    # Handle errors silently\n",
    "                    pass\n",
    "\n",
    "                progress.update(task, advance=1)\n",
    "\n",
    "        print(f\"Downloaded links for {len(gdf_lidar)} LiDAR tiles have been fetched successfully.\")\n",
    "        return gdf_lidar\n"
   ]
  },
  {
   "cell_type": "code",
   "execution_count": null,
   "id": "b0140a0a",
   "metadata": {
    "scrolled": false
   },
   "outputs": [],
   "source": [
    "url = links.fetch_lidar_download_links(polys)"
   ]
  }
 ],
 "metadata": {
  "kernelspec": {
   "display_name": "Python 3",
   "language": "python",
   "name": "python3"
  },
  "language_info": {
   "codemirror_mode": {
    "name": "ipython",
    "version": 3
   },
   "file_extension": ".py",
   "mimetype": "text/x-python",
   "name": "python",
   "nbconvert_exporter": "python",
   "pygments_lexer": "ipython3",
   "version": "3.9.11"
  }
 },
 "nbformat": 4,
 "nbformat_minor": 5
}
