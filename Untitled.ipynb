{
 "cells": [
  {
   "cell_type": "code",
   "execution_count": null,
   "id": "3e303ab9",
   "metadata": {
    "scrolled": true
   },
   "outputs": [],
   "source": [
    "!pip install ."
   ]
  },
  {
   "cell_type": "code",
   "execution_count": 1,
   "id": "78168e41",
   "metadata": {},
   "outputs": [],
   "source": [
    "import msdis_lidar"
   ]
  },
  {
   "cell_type": "code",
   "execution_count": 7,
   "id": "ed3764b4",
   "metadata": {},
   "outputs": [],
   "source": [
    "from msdis_lidar.shapefile_handler import ShapefileHandler\n",
    "from msdis_lidar.downloader import LidarDownloader\n"
   ]
  },
  {
   "cell_type": "code",
   "execution_count": 3,
   "id": "d2ed93ab",
   "metadata": {},
   "outputs": [],
   "source": [
    "handler = ShapefileHandler(\"Perche_Creek_HU12.shp\")"
   ]
  },
  {
   "cell_type": "code",
   "execution_count": 4,
   "id": "a47a0b01",
   "metadata": {},
   "outputs": [
    {
     "data": {
      "application/vnd.jupyter.widget-view+json": {
       "model_id": "8a4a0e70c89145e39d6a6ef1a1396348",
       "version_major": 2,
       "version_minor": 0
      },
      "text/plain": [
       "Output()"
      ]
     },
     "metadata": {},
     "output_type": "display_data"
    },
    {
     "name": "stdout",
     "output_type": "stream",
     "text": [
      "10 geometries found\n",
      "CRS = EPSG:3857 is not compatible\n",
      "  Projecting to EPSG:4326 ...\n",
      "  Simplifying the polygons...\n"
     ]
    },
    {
     "data": {
      "text/html": [
       "<pre style=\"white-space:pre;overflow-x:auto;line-height:normal;font-family:Menlo,'DejaVu Sans Mono',consolas,'Courier New',monospace\"></pre>\n"
      ],
      "text/plain": []
     },
     "metadata": {},
     "output_type": "display_data"
    },
    {
     "data": {
      "text/html": [
       "<pre style=\"white-space:pre;overflow-x:auto;line-height:normal;font-family:Menlo,'DejaVu Sans Mono',consolas,'Courier New',monospace\">\n",
       "</pre>\n"
      ],
      "text/plain": [
       "\n"
      ]
     },
     "metadata": {},
     "output_type": "display_data"
    }
   ],
   "source": [
    "polys = handler.get_polygon_string()"
   ]
  },
  {
   "cell_type": "code",
   "execution_count": 9,
   "id": "752ab996",
   "metadata": {},
   "outputs": [],
   "source": [
    "links = LidarDownloader(polys)"
   ]
  },
  {
   "cell_type": "code",
   "execution_count": null,
   "id": "2c547998",
   "metadata": {},
   "outputs": [],
   "source": [
    "get_download_links"
   ]
  },
  {
   "cell_type": "code",
   "execution_count": 10,
   "id": "32cc23ca",
   "metadata": {},
   "outputs": [
    {
     "name": "stdout",
     "output_type": "stream",
     "text": [
      "Help on class LidarDownloader in module msdis_lidar.downloader:\n",
      "\n",
      "class LidarDownloader(builtins.object)\n",
      " |  LidarDownloader(polygons)\n",
      " |  \n",
      " |  Methods defined here:\n",
      " |  \n",
      " |  __init__(self, polygons)\n",
      " |      Initialize self.  See help(type(self)) for accurate signature.\n",
      " |  \n",
      " |  download_files(self, urls, names)\n",
      " |  \n",
      " |  get_download_links(self)\n",
      " |  \n",
      " |  ----------------------------------------------------------------------\n",
      " |  Data descriptors defined here:\n",
      " |  \n",
      " |  __dict__\n",
      " |      dictionary for instance variables (if defined)\n",
      " |  \n",
      " |  __weakref__\n",
      " |      list of weak references to the object (if defined)\n",
      "\n"
     ]
    }
   ],
   "source": [
    "help(LidarDownloader)"
   ]
  },
  {
   "cell_type": "code",
   "execution_count": null,
   "id": "d774036d",
   "metadata": {},
   "outputs": [],
   "source": [
    "print(dir(msdis_lidar.shapefile_handler))  # Lists the attributes and methods in the module\n"
   ]
  }
 ],
 "metadata": {
  "kernelspec": {
   "display_name": "Python 3",
   "language": "python",
   "name": "python3"
  },
  "language_info": {
   "codemirror_mode": {
    "name": "ipython",
    "version": 3
   },
   "file_extension": ".py",
   "mimetype": "text/x-python",
   "name": "python",
   "nbconvert_exporter": "python",
   "pygments_lexer": "ipython3",
   "version": "3.9.11"
  }
 },
 "nbformat": 4,
 "nbformat_minor": 5
}
